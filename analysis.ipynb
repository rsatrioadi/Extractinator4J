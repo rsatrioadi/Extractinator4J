{
 "cells": [
  {
   "cell_type": "code",
   "execution_count": 1,
   "metadata": {},
   "outputs": [
    {
     "name": "stdout",
     "output_type": "stream",
     "text": [
      "Requirement already satisfied: matplotlib in c:\\users\\20215365\\applications\\miniconda3-4.5.4\\lib\\site-packages (3.3.4)\n",
      "Requirement already satisfied: pillow>=6.2.0 in c:\\users\\20215365\\applications\\miniconda3-4.5.4\\lib\\site-packages (from matplotlib) (8.4.0)\n",
      "Requirement already satisfied: pyparsing!=2.0.4,!=2.1.2,!=2.1.6,>=2.0.3 in c:\\users\\20215365\\applications\\miniconda3-4.5.4\\lib\\site-packages (from matplotlib) (3.0.7)\n",
      "Requirement already satisfied: python-dateutil>=2.1 in c:\\users\\20215365\\applications\\miniconda3-4.5.4\\lib\\site-packages (from matplotlib) (2.8.2)\n",
      "Requirement already satisfied: numpy>=1.15 in c:\\users\\20215365\\applications\\miniconda3-4.5.4\\lib\\site-packages (from matplotlib) (1.19.5)\n",
      "Requirement already satisfied: cycler>=0.10 in c:\\users\\20215365\\applications\\miniconda3-4.5.4\\lib\\site-packages (from matplotlib) (0.11.0)\n",
      "Requirement already satisfied: kiwisolver>=1.0.1 in c:\\users\\20215365\\applications\\miniconda3-4.5.4\\lib\\site-packages (from matplotlib) (1.3.1)\n",
      "Requirement already satisfied: six>=1.5 in c:\\users\\20215365\\applications\\miniconda3-4.5.4\\lib\\site-packages (from python-dateutil>=2.1->matplotlib) (1.15.0)\n",
      "Note: you may need to restart the kernel to use updated packages.\n",
      "Requirement already satisfied: stellargraph in c:\\users\\20215365\\applications\\miniconda3-4.5.4\\lib\\site-packages (1.2.1)\n",
      "Requirement already satisfied: numpy>=1.14 in c:\\users\\20215365\\applications\\miniconda3-4.5.4\\lib\\site-packages (from stellargraph) (1.19.5)\n",
      "Requirement already satisfied: networkx>=2.2 in c:\\users\\20215365\\applications\\miniconda3-4.5.4\\lib\\site-packages (from stellargraph) (2.5.1)\n",
      "Requirement already satisfied: scikit-learn>=0.20 in c:\\users\\20215365\\applications\\miniconda3-4.5.4\\lib\\site-packages (from stellargraph) (0.24.2)\n",
      "Requirement already satisfied: pandas>=0.24 in c:\\users\\20215365\\applications\\miniconda3-4.5.4\\lib\\site-packages (from stellargraph) (1.1.5)\n",
      "Requirement already satisfied: matplotlib>=2.2 in c:\\users\\20215365\\applications\\miniconda3-4.5.4\\lib\\site-packages (from stellargraph) (3.3.4)\n",
      "Requirement already satisfied: scipy>=1.1.0 in c:\\users\\20215365\\applications\\miniconda3-4.5.4\\lib\\site-packages (from stellargraph) (1.5.4)\n",
      "Requirement already satisfied: gensim>=3.4.0 in c:\\users\\20215365\\applications\\miniconda3-4.5.4\\lib\\site-packages (from stellargraph) (4.2.0)\n",
      "Requirement already satisfied: tensorflow>=2.1.0 in c:\\users\\20215365\\applications\\miniconda3-4.5.4\\lib\\site-packages (from stellargraph) (2.6.2)\n",
      "Requirement already satisfied: smart-open>=1.8.1 in c:\\users\\20215365\\applications\\miniconda3-4.5.4\\lib\\site-packages (from gensim>=3.4.0->stellargraph) (6.2.0)\n",
      "Requirement already satisfied: python-dateutil>=2.1 in c:\\users\\20215365\\applications\\miniconda3-4.5.4\\lib\\site-packages (from matplotlib>=2.2->stellargraph) (2.8.2)\n",
      "Requirement already satisfied: pillow>=6.2.0 in c:\\users\\20215365\\applications\\miniconda3-4.5.4\\lib\\site-packages (from matplotlib>=2.2->stellargraph) (8.4.0)\n",
      "Requirement already satisfied: kiwisolver>=1.0.1 in c:\\users\\20215365\\applications\\miniconda3-4.5.4\\lib\\site-packages (from matplotlib>=2.2->stellargraph) (1.3.1)\n",
      "Requirement already satisfied: pyparsing!=2.0.4,!=2.1.2,!=2.1.6,>=2.0.3 in c:\\users\\20215365\\applications\\miniconda3-4.5.4\\lib\\site-packages (from matplotlib>=2.2->stellargraph) (3.0.7)\n",
      "Requirement already satisfied: cycler>=0.10 in c:\\users\\20215365\\applications\\miniconda3-4.5.4\\lib\\site-packages (from matplotlib>=2.2->stellargraph) (0.11.0)\n",
      "Requirement already satisfied: decorator<5,>=4.3 in c:\\users\\20215365\\applications\\miniconda3-4.5.4\\lib\\site-packages (from networkx>=2.2->stellargraph) (4.4.2)\n",
      "Requirement already satisfied: pytz>=2017.2 in c:\\users\\20215365\\applications\\miniconda3-4.5.4\\lib\\site-packages (from pandas>=0.24->stellargraph) (2022.2.1)\n",
      "Requirement already satisfied: joblib>=0.11 in c:\\users\\20215365\\applications\\miniconda3-4.5.4\\lib\\site-packages (from scikit-learn>=0.20->stellargraph) (1.1.0)\n",
      "Requirement already satisfied: threadpoolctl>=2.0.0 in c:\\users\\20215365\\applications\\miniconda3-4.5.4\\lib\\site-packages (from scikit-learn>=0.20->stellargraph) (3.1.0)\n",
      "Requirement already satisfied: h5py~=3.1.0 in c:\\users\\20215365\\applications\\miniconda3-4.5.4\\lib\\site-packages (from tensorflow>=2.1.0->stellargraph) (3.1.0)\n",
      "Requirement already satisfied: protobuf>=3.9.2 in c:\\users\\20215365\\applications\\miniconda3-4.5.4\\lib\\site-packages (from tensorflow>=2.1.0->stellargraph) (3.19.5)\n",
      "Requirement already satisfied: six~=1.15.0 in c:\\users\\20215365\\applications\\miniconda3-4.5.4\\lib\\site-packages (from tensorflow>=2.1.0->stellargraph) (1.15.0)\n",
      "Requirement already satisfied: opt-einsum~=3.3.0 in c:\\users\\20215365\\applications\\miniconda3-4.5.4\\lib\\site-packages (from tensorflow>=2.1.0->stellargraph) (3.3.0)\n",
      "Requirement already satisfied: wheel~=0.35 in c:\\users\\20215365\\applications\\miniconda3-4.5.4\\lib\\site-packages (from tensorflow>=2.1.0->stellargraph) (0.37.1)\n",
      "Requirement already satisfied: keras<2.7,>=2.6.0 in c:\\users\\20215365\\applications\\miniconda3-4.5.4\\lib\\site-packages (from tensorflow>=2.1.0->stellargraph) (2.6.0)\n",
      "Requirement already satisfied: termcolor~=1.1.0 in c:\\users\\20215365\\applications\\miniconda3-4.5.4\\lib\\site-packages (from tensorflow>=2.1.0->stellargraph) (1.1.0)\n",
      "Requirement already satisfied: astunparse~=1.6.3 in c:\\users\\20215365\\applications\\miniconda3-4.5.4\\lib\\site-packages (from tensorflow>=2.1.0->stellargraph) (1.6.3)\n",
      "Requirement already satisfied: gast==0.4.0 in c:\\users\\20215365\\applications\\miniconda3-4.5.4\\lib\\site-packages (from tensorflow>=2.1.0->stellargraph) (0.4.0)\n",
      "Requirement already satisfied: google-pasta~=0.2 in c:\\users\\20215365\\applications\\miniconda3-4.5.4\\lib\\site-packages (from tensorflow>=2.1.0->stellargraph) (0.2.0)\n",
      "Requirement already satisfied: clang~=5.0 in c:\\users\\20215365\\applications\\miniconda3-4.5.4\\lib\\site-packages (from tensorflow>=2.1.0->stellargraph) (5.0)\n",
      "Requirement already satisfied: grpcio<2.0,>=1.37.0 in c:\\users\\20215365\\applications\\miniconda3-4.5.4\\lib\\site-packages (from tensorflow>=2.1.0->stellargraph) (1.48.1)\n",
      "Requirement already satisfied: tensorflow-estimator<2.7,>=2.6.0 in c:\\users\\20215365\\applications\\miniconda3-4.5.4\\lib\\site-packages (from tensorflow>=2.1.0->stellargraph) (2.6.0)\n",
      "Requirement already satisfied: flatbuffers~=1.12.0 in c:\\users\\20215365\\applications\\miniconda3-4.5.4\\lib\\site-packages (from tensorflow>=2.1.0->stellargraph) (1.12)\n",
      "Requirement already satisfied: keras-preprocessing~=1.1.2 in c:\\users\\20215365\\applications\\miniconda3-4.5.4\\lib\\site-packages (from tensorflow>=2.1.0->stellargraph) (1.1.2)\n",
      "Requirement already satisfied: typing-extensions~=3.7.4 in c:\\users\\20215365\\applications\\miniconda3-4.5.4\\lib\\site-packages (from tensorflow>=2.1.0->stellargraph) (3.7.4.3)\n",
      "Requirement already satisfied: tensorboard<2.7,>=2.6.0 in c:\\users\\20215365\\applications\\miniconda3-4.5.4\\lib\\site-packages (from tensorflow>=2.1.0->stellargraph) (2.6.0)\n",
      "Requirement already satisfied: wrapt~=1.12.1 in c:\\users\\20215365\\applications\\miniconda3-4.5.4\\lib\\site-packages (from tensorflow>=2.1.0->stellargraph) (1.12.1)\n",
      "Requirement already satisfied: absl-py~=0.10 in c:\\users\\20215365\\applications\\miniconda3-4.5.4\\lib\\site-packages (from tensorflow>=2.1.0->stellargraph) (0.15.0)\n",
      "Requirement already satisfied: cached-property in c:\\users\\20215365\\applications\\miniconda3-4.5.4\\lib\\site-packages (from h5py~=3.1.0->tensorflow>=2.1.0->stellargraph) (1.5.2)\n",
      "Requirement already satisfied: werkzeug>=0.11.15 in c:\\users\\20215365\\applications\\miniconda3-4.5.4\\lib\\site-packages (from tensorboard<2.7,>=2.6.0->tensorflow>=2.1.0->stellargraph) (2.0.3)\n",
      "Requirement already satisfied: tensorboard-plugin-wit>=1.6.0 in c:\\users\\20215365\\applications\\miniconda3-4.5.4\\lib\\site-packages (from tensorboard<2.7,>=2.6.0->tensorflow>=2.1.0->stellargraph) (1.8.1)\n",
      "Requirement already satisfied: markdown>=2.6.8 in c:\\users\\20215365\\applications\\miniconda3-4.5.4\\lib\\site-packages (from tensorboard<2.7,>=2.6.0->tensorflow>=2.1.0->stellargraph) (3.3.7)\n",
      "Requirement already satisfied: requests<3,>=2.21.0 in c:\\users\\20215365\\applications\\miniconda3-4.5.4\\lib\\site-packages (from tensorboard<2.7,>=2.6.0->tensorflow>=2.1.0->stellargraph) (2.27.1)\n",
      "Requirement already satisfied: tensorboard-data-server<0.7.0,>=0.6.0 in c:\\users\\20215365\\applications\\miniconda3-4.5.4\\lib\\site-packages (from tensorboard<2.7,>=2.6.0->tensorflow>=2.1.0->stellargraph) (0.6.1)\n",
      "Requirement already satisfied: google-auth<2,>=1.6.3 in c:\\users\\20215365\\applications\\miniconda3-4.5.4\\lib\\site-packages (from tensorboard<2.7,>=2.6.0->tensorflow>=2.1.0->stellargraph) (1.35.0)\n",
      "Requirement already satisfied: google-auth-oauthlib<0.5,>=0.4.1 in c:\\users\\20215365\\applications\\miniconda3-4.5.4\\lib\\site-packages (from tensorboard<2.7,>=2.6.0->tensorflow>=2.1.0->stellargraph) (0.4.6)\n",
      "Requirement already satisfied: setuptools>=41.0.0 in c:\\users\\20215365\\applications\\miniconda3-4.5.4\\lib\\site-packages (from tensorboard<2.7,>=2.6.0->tensorflow>=2.1.0->stellargraph) (59.6.0)\n",
      "Requirement already satisfied: cachetools<5.0,>=2.0.0 in c:\\users\\20215365\\applications\\miniconda3-4.5.4\\lib\\site-packages (from google-auth<2,>=1.6.3->tensorboard<2.7,>=2.6.0->tensorflow>=2.1.0->stellargraph) (4.2.4)\n",
      "Requirement already satisfied: rsa<5,>=3.1.4 in c:\\users\\20215365\\applications\\miniconda3-4.5.4\\lib\\site-packages (from google-auth<2,>=1.6.3->tensorboard<2.7,>=2.6.0->tensorflow>=2.1.0->stellargraph) (4.9)\n",
      "Requirement already satisfied: pyasn1-modules>=0.2.1 in c:\\users\\20215365\\applications\\miniconda3-4.5.4\\lib\\site-packages (from google-auth<2,>=1.6.3->tensorboard<2.7,>=2.6.0->tensorflow>=2.1.0->stellargraph) (0.2.8)\n",
      "Requirement already satisfied: requests-oauthlib>=0.7.0 in c:\\users\\20215365\\applications\\miniconda3-4.5.4\\lib\\site-packages (from google-auth-oauthlib<0.5,>=0.4.1->tensorboard<2.7,>=2.6.0->tensorflow>=2.1.0->stellargraph) (1.3.1)\n",
      "Requirement already satisfied: importlib-metadata>=4.4 in c:\\users\\20215365\\applications\\miniconda3-4.5.4\\lib\\site-packages (from markdown>=2.6.8->tensorboard<2.7,>=2.6.0->tensorflow>=2.1.0->stellargraph) (4.8.3)\n",
      "Requirement already satisfied: idna<4,>=2.5 in c:\\users\\20215365\\applications\\miniconda3-4.5.4\\lib\\site-packages (from requests<3,>=2.21.0->tensorboard<2.7,>=2.6.0->tensorflow>=2.1.0->stellargraph) (2.6)\n",
      "Requirement already satisfied: urllib3<1.27,>=1.21.1 in c:\\users\\20215365\\applications\\miniconda3-4.5.4\\lib\\site-packages (from requests<3,>=2.21.0->tensorboard<2.7,>=2.6.0->tensorflow>=2.1.0->stellargraph) (1.22)\n",
      "Requirement already satisfied: certifi>=2017.4.17 in c:\\users\\20215365\\applications\\miniconda3-4.5.4\\lib\\site-packages (from requests<3,>=2.21.0->tensorboard<2.7,>=2.6.0->tensorflow>=2.1.0->stellargraph) (2018.4.16)\n",
      "Requirement already satisfied: charset-normalizer~=2.0.0 in c:\\users\\20215365\\applications\\miniconda3-4.5.4\\lib\\site-packages (from requests<3,>=2.21.0->tensorboard<2.7,>=2.6.0->tensorflow>=2.1.0->stellargraph) (2.0.12)\n",
      "Requirement already satisfied: dataclasses in c:\\users\\20215365\\applications\\miniconda3-4.5.4\\lib\\site-packages (from werkzeug>=0.11.15->tensorboard<2.7,>=2.6.0->tensorflow>=2.1.0->stellargraph) (0.8)\n",
      "Requirement already satisfied: zipp>=0.5 in c:\\users\\20215365\\applications\\miniconda3-4.5.4\\lib\\site-packages (from importlib-metadata>=4.4->markdown>=2.6.8->tensorboard<2.7,>=2.6.0->tensorflow>=2.1.0->stellargraph) (3.6.0)\n",
      "Requirement already satisfied: pyasn1<0.5.0,>=0.4.6 in c:\\users\\20215365\\applications\\miniconda3-4.5.4\\lib\\site-packages (from pyasn1-modules>=0.2.1->google-auth<2,>=1.6.3->tensorboard<2.7,>=2.6.0->tensorflow>=2.1.0->stellargraph) (0.4.8)\n",
      "Requirement already satisfied: oauthlib>=3.0.0 in c:\\users\\20215365\\applications\\miniconda3-4.5.4\\lib\\site-packages (from requests-oauthlib>=0.7.0->google-auth-oauthlib<0.5,>=0.4.1->tensorboard<2.7,>=2.6.0->tensorflow>=2.1.0->stellargraph) (3.2.1)\n",
      "Note: you may need to restart the kernel to use updated packages.\n",
      "Requirement already satisfied: tensorflow in c:\\users\\20215365\\applications\\miniconda3-4.5.4\\lib\\site-packages (2.6.2)\n",
      "Requirement already satisfied: clang~=5.0 in c:\\users\\20215365\\applications\\miniconda3-4.5.4\\lib\\site-packages (from tensorflow) (5.0)\n",
      "Requirement already satisfied: astunparse~=1.6.3 in c:\\users\\20215365\\applications\\miniconda3-4.5.4\\lib\\site-packages (from tensorflow) (1.6.3)\n",
      "Requirement already satisfied: protobuf>=3.9.2 in c:\\users\\20215365\\applications\\miniconda3-4.5.4\\lib\\site-packages (from tensorflow) (3.19.5)\n",
      "Requirement already satisfied: wheel~=0.35 in c:\\users\\20215365\\applications\\miniconda3-4.5.4\\lib\\site-packages (from tensorflow) (0.37.1)\n",
      "Requirement already satisfied: numpy~=1.19.2 in c:\\users\\20215365\\applications\\miniconda3-4.5.4\\lib\\site-packages (from tensorflow) (1.19.5)\n",
      "Requirement already satisfied: absl-py~=0.10 in c:\\users\\20215365\\applications\\miniconda3-4.5.4\\lib\\site-packages (from tensorflow) (0.15.0)\n",
      "Requirement already satisfied: h5py~=3.1.0 in c:\\users\\20215365\\applications\\miniconda3-4.5.4\\lib\\site-packages (from tensorflow) (3.1.0)\n",
      "Requirement already satisfied: keras-preprocessing~=1.1.2 in c:\\users\\20215365\\applications\\miniconda3-4.5.4\\lib\\site-packages (from tensorflow) (1.1.2)\n",
      "Requirement already satisfied: termcolor~=1.1.0 in c:\\users\\20215365\\applications\\miniconda3-4.5.4\\lib\\site-packages (from tensorflow) (1.1.0)\n",
      "Requirement already satisfied: opt-einsum~=3.3.0 in c:\\users\\20215365\\applications\\miniconda3-4.5.4\\lib\\site-packages (from tensorflow) (3.3.0)\n",
      "Requirement already satisfied: wrapt~=1.12.1 in c:\\users\\20215365\\applications\\miniconda3-4.5.4\\lib\\site-packages (from tensorflow) (1.12.1)\n",
      "Requirement already satisfied: gast==0.4.0 in c:\\users\\20215365\\applications\\miniconda3-4.5.4\\lib\\site-packages (from tensorflow) (0.4.0)\n",
      "Requirement already satisfied: tensorflow-estimator<2.7,>=2.6.0 in c:\\users\\20215365\\applications\\miniconda3-4.5.4\\lib\\site-packages (from tensorflow) (2.6.0)\n",
      "Requirement already satisfied: keras<2.7,>=2.6.0 in c:\\users\\20215365\\applications\\miniconda3-4.5.4\\lib\\site-packages (from tensorflow) (2.6.0)\n",
      "Requirement already satisfied: google-pasta~=0.2 in c:\\users\\20215365\\applications\\miniconda3-4.5.4\\lib\\site-packages (from tensorflow) (0.2.0)\n",
      "Requirement already satisfied: typing-extensions~=3.7.4 in c:\\users\\20215365\\applications\\miniconda3-4.5.4\\lib\\site-packages (from tensorflow) (3.7.4.3)\n",
      "Requirement already satisfied: six~=1.15.0 in c:\\users\\20215365\\applications\\miniconda3-4.5.4\\lib\\site-packages (from tensorflow) (1.15.0)\n",
      "Requirement already satisfied: tensorboard<2.7,>=2.6.0 in c:\\users\\20215365\\applications\\miniconda3-4.5.4\\lib\\site-packages (from tensorflow) (2.6.0)\n",
      "Requirement already satisfied: flatbuffers~=1.12.0 in c:\\users\\20215365\\applications\\miniconda3-4.5.4\\lib\\site-packages (from tensorflow) (1.12)\n",
      "Requirement already satisfied: grpcio<2.0,>=1.37.0 in c:\\users\\20215365\\applications\\miniconda3-4.5.4\\lib\\site-packages (from tensorflow) (1.48.1)\n",
      "Requirement already satisfied: cached-property in c:\\users\\20215365\\applications\\miniconda3-4.5.4\\lib\\site-packages (from h5py~=3.1.0->tensorflow) (1.5.2)\n",
      "Requirement already satisfied: werkzeug>=0.11.15 in c:\\users\\20215365\\applications\\miniconda3-4.5.4\\lib\\site-packages (from tensorboard<2.7,>=2.6.0->tensorflow) (2.0.3)\n",
      "Requirement already satisfied: tensorboard-plugin-wit>=1.6.0 in c:\\users\\20215365\\applications\\miniconda3-4.5.4\\lib\\site-packages (from tensorboard<2.7,>=2.6.0->tensorflow) (1.8.1)\n",
      "Requirement already satisfied: tensorboard-data-server<0.7.0,>=0.6.0 in c:\\users\\20215365\\applications\\miniconda3-4.5.4\\lib\\site-packages (from tensorboard<2.7,>=2.6.0->tensorflow) (0.6.1)\n",
      "Requirement already satisfied: google-auth<2,>=1.6.3 in c:\\users\\20215365\\applications\\miniconda3-4.5.4\\lib\\site-packages (from tensorboard<2.7,>=2.6.0->tensorflow) (1.35.0)\n",
      "Requirement already satisfied: markdown>=2.6.8 in c:\\users\\20215365\\applications\\miniconda3-4.5.4\\lib\\site-packages (from tensorboard<2.7,>=2.6.0->tensorflow) (3.3.7)\n",
      "Requirement already satisfied: requests<3,>=2.21.0 in c:\\users\\20215365\\applications\\miniconda3-4.5.4\\lib\\site-packages (from tensorboard<2.7,>=2.6.0->tensorflow) (2.27.1)\n",
      "Requirement already satisfied: setuptools>=41.0.0 in c:\\users\\20215365\\applications\\miniconda3-4.5.4\\lib\\site-packages (from tensorboard<2.7,>=2.6.0->tensorflow) (59.6.0)\n",
      "Requirement already satisfied: google-auth-oauthlib<0.5,>=0.4.1 in c:\\users\\20215365\\applications\\miniconda3-4.5.4\\lib\\site-packages (from tensorboard<2.7,>=2.6.0->tensorflow) (0.4.6)\n",
      "Requirement already satisfied: cachetools<5.0,>=2.0.0 in c:\\users\\20215365\\applications\\miniconda3-4.5.4\\lib\\site-packages (from google-auth<2,>=1.6.3->tensorboard<2.7,>=2.6.0->tensorflow) (4.2.4)\n",
      "Requirement already satisfied: pyasn1-modules>=0.2.1 in c:\\users\\20215365\\applications\\miniconda3-4.5.4\\lib\\site-packages (from google-auth<2,>=1.6.3->tensorboard<2.7,>=2.6.0->tensorflow) (0.2.8)\n",
      "Requirement already satisfied: rsa<5,>=3.1.4 in c:\\users\\20215365\\applications\\miniconda3-4.5.4\\lib\\site-packages (from google-auth<2,>=1.6.3->tensorboard<2.7,>=2.6.0->tensorflow) (4.9)\n",
      "Requirement already satisfied: requests-oauthlib>=0.7.0 in c:\\users\\20215365\\applications\\miniconda3-4.5.4\\lib\\site-packages (from google-auth-oauthlib<0.5,>=0.4.1->tensorboard<2.7,>=2.6.0->tensorflow) (1.3.1)\n",
      "Requirement already satisfied: importlib-metadata>=4.4 in c:\\users\\20215365\\applications\\miniconda3-4.5.4\\lib\\site-packages (from markdown>=2.6.8->tensorboard<2.7,>=2.6.0->tensorflow) (4.8.3)\n",
      "Requirement already satisfied: idna<4,>=2.5 in c:\\users\\20215365\\applications\\miniconda3-4.5.4\\lib\\site-packages (from requests<3,>=2.21.0->tensorboard<2.7,>=2.6.0->tensorflow) (2.6)\n",
      "Requirement already satisfied: charset-normalizer~=2.0.0 in c:\\users\\20215365\\applications\\miniconda3-4.5.4\\lib\\site-packages (from requests<3,>=2.21.0->tensorboard<2.7,>=2.6.0->tensorflow) (2.0.12)\n",
      "Requirement already satisfied: urllib3<1.27,>=1.21.1 in c:\\users\\20215365\\applications\\miniconda3-4.5.4\\lib\\site-packages (from requests<3,>=2.21.0->tensorboard<2.7,>=2.6.0->tensorflow) (1.22)\n",
      "Requirement already satisfied: certifi>=2017.4.17 in c:\\users\\20215365\\applications\\miniconda3-4.5.4\\lib\\site-packages (from requests<3,>=2.21.0->tensorboard<2.7,>=2.6.0->tensorflow) (2018.4.16)\n",
      "Requirement already satisfied: dataclasses in c:\\users\\20215365\\applications\\miniconda3-4.5.4\\lib\\site-packages (from werkzeug>=0.11.15->tensorboard<2.7,>=2.6.0->tensorflow) (0.8)\n",
      "Requirement already satisfied: zipp>=0.5 in c:\\users\\20215365\\applications\\miniconda3-4.5.4\\lib\\site-packages (from importlib-metadata>=4.4->markdown>=2.6.8->tensorboard<2.7,>=2.6.0->tensorflow) (3.6.0)\n",
      "Requirement already satisfied: pyasn1<0.5.0,>=0.4.6 in c:\\users\\20215365\\applications\\miniconda3-4.5.4\\lib\\site-packages (from pyasn1-modules>=0.2.1->google-auth<2,>=1.6.3->tensorboard<2.7,>=2.6.0->tensorflow) (0.4.8)\n",
      "Requirement already satisfied: oauthlib>=3.0.0 in c:\\users\\20215365\\applications\\miniconda3-4.5.4\\lib\\site-packages (from requests-oauthlib>=0.7.0->google-auth-oauthlib<0.5,>=0.4.1->tensorboard<2.7,>=2.6.0->tensorflow) (3.2.1)\n",
      "Note: you may need to restart the kernel to use updated packages.\n",
      "Requirement already satisfied: pandas in c:\\users\\20215365\\applications\\miniconda3-4.5.4\\lib\\site-packages (1.1.5)\n",
      "Requirement already satisfied: python-dateutil>=2.7.3 in c:\\users\\20215365\\applications\\miniconda3-4.5.4\\lib\\site-packages (from pandas) (2.8.2)\n",
      "Requirement already satisfied: pytz>=2017.2 in c:\\users\\20215365\\applications\\miniconda3-4.5.4\\lib\\site-packages (from pandas) (2022.2.1)\n",
      "Requirement already satisfied: numpy>=1.15.4 in c:\\users\\20215365\\applications\\miniconda3-4.5.4\\lib\\site-packages (from pandas) (1.19.5)\n",
      "Requirement already satisfied: six>=1.5 in c:\\users\\20215365\\applications\\miniconda3-4.5.4\\lib\\site-packages (from python-dateutil>=2.7.3->pandas) (1.15.0)\n",
      "Note: you may need to restart the kernel to use updated packages.\n",
      "Requirement already satisfied: numpy in c:\\users\\20215365\\applications\\miniconda3-4.5.4\\lib\\site-packages (1.19.5)\n",
      "Note: you may need to restart the kernel to use updated packages.\n",
      "Requirement already satisfied: pydot in c:\\users\\20215365\\applications\\miniconda3-4.5.4\\lib\\site-packages (1.4.2)\n",
      "Requirement already satisfied: pyparsing>=2.1.4 in c:\\users\\20215365\\applications\\miniconda3-4.5.4\\lib\\site-packages (from pydot) (3.0.7)\n",
      "Note: you may need to restart the kernel to use updated packages.\n",
      "Requirement already satisfied: graphviz in c:\\users\\20215365\\applications\\miniconda3-4.5.4\\lib\\site-packages (0.19.1)\n",
      "Note: you may need to restart the kernel to use updated packages.\n",
      "Requirement already satisfied: networkx in c:\\users\\20215365\\applications\\miniconda3-4.5.4\\lib\\site-packages (2.5.1)\n",
      "Requirement already satisfied: decorator<5,>=4.3 in c:\\users\\20215365\\applications\\miniconda3-4.5.4\\lib\\site-packages (from networkx) (4.4.2)\n",
      "Note: you may need to restart the kernel to use updated packages.\n"
     ]
    }
   ],
   "source": [
    "# %pip install matplotlib\n",
    "# %pip install stellargraph\n",
    "# %pip install tensorflow\n",
    "# %pip install pandas\n",
    "# %pip install numpy\n",
    "# %pip install pydot\n",
    "# %pip install graphviz\n",
    "# %pip install networkx"
   ]
  },
  {
   "cell_type": "code",
   "execution_count": 2,
   "metadata": {},
   "outputs": [],
   "source": [
    "import os\n",
    "import matplotlib.pyplot as plt\n",
    "import stellargraph as sg\n",
    "import pandas as pd\n",
    "import numpy as np\n",
    "import networkx as nx\n",
    "import tensorflow as tf\n",
    "from tensorflow import keras\n",
    "from IPython.display import display, HTML"
   ]
  },
  {
   "cell_type": "code",
   "execution_count": 3,
   "metadata": {},
   "outputs": [
    {
     "data": {
      "image/png": "[encoded data removed]",
      "text/plain": [
       "<Figure size 432x288 with 1 Axes>"
      ]
     },
     "metadata": {},
     "output_type": "display_data"
    }
   ],
   "source": [
    "G = nx.nx_pydot.read_dot(\n",
    "  \"output/jhotdraw/gv/CH.ifa.draw.applet.DrawApplet/actionPerformed-724427751.gv\")\n",
    "\n",
    "nx.draw(G, pos=nx.nx_pydot.pydot_layout(G, prog='dot'))"
   ]
  },
  {
   "cell_type": "code",
   "execution_count": 4,
   "metadata": {},
   "outputs": [
    {
     "data": {
      "text/plain": [
       "dict_keys(['CH.ifa.draw.applet.DrawApplet', 'CH.ifa.draw.applet.SleeperThread', 'CH.ifa.draw.application.DrawApplication', 'CH.ifa.draw.contrib.ChopPolygonConnector', 'CH.ifa.draw.contrib.DiamondFigure', 'CH.ifa.draw.contrib.PolygonFigure', 'CH.ifa.draw.contrib.PolygonHandle', 'CH.ifa.draw.contrib.PolygonScaleHandle', 'CH.ifa.draw.contrib.PolygonTool', 'CH.ifa.draw.contrib.TriangleFigure', 'CH.ifa.draw.contrib.TriangleRotationHandle', 'CH.ifa.draw.figures.ArrowTip', 'CH.ifa.draw.figures.AttributeFigure', 'CH.ifa.draw.figures.BorderDecorator', 'CH.ifa.draw.figures.BorderTool', 'CH.ifa.draw.figures.ChopEllipseConnector', 'CH.ifa.draw.figures.ConnectedTextTool', 'CH.ifa.draw.figures.ElbowConnection', 'CH.ifa.draw.figures.ElbowHandle', 'CH.ifa.draw.figures.ElbowTextLocator', 'CH.ifa.draw.figures.EllipseFigure', 'CH.ifa.draw.figures.FigureAttributes', 'CH.ifa.draw.figures.FontSizeHandle', 'CH.ifa.draw.figures.GroupCommand', 'CH.ifa.draw.figures.GroupFigure', 'CH.ifa.draw.figures.GroupHandle', 'CH.ifa.draw.figures.ImageFigure', 'CH.ifa.draw.figures.InsertImageCommand', 'CH.ifa.draw.figures.LineConnection', 'CH.ifa.draw.figures.LineDecoration', 'CH.ifa.draw.figures.LineFigure', 'CH.ifa.draw.figures.NumberTextFigure', 'CH.ifa.draw.figures.PolyLineConnector', 'CH.ifa.draw.figures.PolyLineFigure', 'CH.ifa.draw.figures.PolyLineHandle', 'CH.ifa.draw.figures.PolyLineLocator', 'CH.ifa.draw.figures.RadiusHandle', 'CH.ifa.draw.figures.RectangleFigure', 'CH.ifa.draw.figures.RoundRectangleFigure', 'CH.ifa.draw.figures.ScribbleTool', 'CH.ifa.draw.figures.ShortestDistanceConnector', 'CH.ifa.draw.figures.TextFigure', 'CH.ifa.draw.figures.TextTool', 'CH.ifa.draw.figures.UngroupCommand', 'CH.ifa.draw.framework.ConnectionFigure', 'CH.ifa.draw.framework.Connector', 'CH.ifa.draw.framework.Drawing', 'CH.ifa.draw.framework.DrawingChangeEvent', 'CH.ifa.draw.framework.DrawingChangeListener', 'CH.ifa.draw.framework.DrawingEditor', 'CH.ifa.draw.framework.DrawingView', 'CH.ifa.draw.framework.Figure', 'CH.ifa.draw.framework.FigureChangeEvent', 'CH.ifa.draw.framework.FigureChangeListener', 'CH.ifa.draw.framework.FigureEnumeration', 'CH.ifa.draw.framework.FigureSelection', 'CH.ifa.draw.framework.Handle', 'CH.ifa.draw.framework.HJDError', 'CH.ifa.draw.framework.Locator', 'CH.ifa.draw.framework.Painter', 'CH.ifa.draw.framework.PointConstrainer', 'CH.ifa.draw.framework.Tool', 'CH.ifa.draw.samples.javadraw.AnimationDecorator', 'CH.ifa.draw.samples.javadraw.Animator', 'CH.ifa.draw.samples.javadraw.BouncingDrawing', 'CH.ifa.draw.samples.javadraw.FollowURLTool', 'CH.ifa.draw.samples.javadraw.JavaDrawApp', 'CH.ifa.draw.samples.javadraw.JavaDrawApplet', 'CH.ifa.draw.samples.javadraw.JavaDrawViewer', 'CH.ifa.draw.samples.javadraw.MySelectionTool', 'CH.ifa.draw.samples.javadraw.PatternPainter', 'CH.ifa.draw.samples.javadraw.URLTool', 'CH.ifa.draw.samples.net.NetApp', 'CH.ifa.draw.samples.net.NodeFigure', 'CH.ifa.draw.samples.nothing.NothingApp', 'CH.ifa.draw.samples.nothing.NothingApplet', 'CH.ifa.draw.samples.pert.PertApplet', 'CH.ifa.draw.samples.pert.PertApplication', 'CH.ifa.draw.samples.pert.PertDependency', 'CH.ifa.draw.samples.pert.PertFigure', 'CH.ifa.draw.samples.pert.PertFigureCreationTool', 'CH.ifa.draw.standard.AbstractConnector', 'CH.ifa.draw.standard.AbstractFigure', 'CH.ifa.draw.standard.AbstractHandle', 'CH.ifa.draw.standard.AbstractLocator', 'CH.ifa.draw.standard.AbstractTool', 'CH.ifa.draw.standard.ActionTool', 'CH.ifa.draw.standard.AlignCommand', 'CH.ifa.draw.standard.BoxHandleKit', 'CH.ifa.draw.standard.BringToFrontCommand', 'CH.ifa.draw.standard.BufferedUpdateStrategy', 'CH.ifa.draw.standard.ChangeAttributeCommand', 'CH.ifa.draw.standard.ChangeConnectionEndHandle', 'CH.ifa.draw.standard.ChangeConnectionHandle', 'CH.ifa.draw.standard.ChangeConnectionStartHandle', 'CH.ifa.draw.standard.ChopBoxConnector', 'CH.ifa.draw.standard.CompositeFigure', 'CH.ifa.draw.standard.ConnectionHandle', 'CH.ifa.draw.standard.ConnectionTool', 'CH.ifa.draw.standard.CopyCommand', 'CH.ifa.draw.standard.CreationTool', 'CH.ifa.draw.standard.CutCommand', 'CH.ifa.draw.standard.DecoratorFigure', 'CH.ifa.draw.standard.DeleteCommand', 'CH.ifa.draw.standard.DragTracker', 'CH.ifa.draw.standard.DuplicateCommand', 'CH.ifa.draw.standard.EastHandle', 'CH.ifa.draw.standard.FigureChangeEventMulticaster', 'CH.ifa.draw.standard.FigureEnumerator', 'CH.ifa.draw.standard.FigureTransferCommand', 'CH.ifa.draw.standard.GridConstrainer', 'CH.ifa.draw.standard.HandleTracker', 'CH.ifa.draw.standard.LocatorConnector', 'CH.ifa.draw.standard.LocatorHandle', 'CH.ifa.draw.standard.NorthEastHandle', 'CH.ifa.draw.standard.NorthHandle', 'CH.ifa.draw.standard.NorthWestHandle', 'CH.ifa.draw.standard.NullHandle', 'CH.ifa.draw.standard.OffsetLocator', 'CH.ifa.draw.standard.PasteCommand', 'CH.ifa.draw.standard.RelativeLocator', 'CH.ifa.draw.standard.ReverseFigureEnumerator', 'CH.ifa.draw.standard.SelectAreaTracker', 'CH.ifa.draw.standard.SelectionTool', 'CH.ifa.draw.standard.SendToBackCommand', 'CH.ifa.draw.standard.SimpleUpdateStrategy', 'CH.ifa.draw.standard.SouthEastHandle', 'CH.ifa.draw.standard.SouthHandle', 'CH.ifa.draw.standard.SouthWestHandle', 'CH.ifa.draw.standard.StandardDrawing', 'CH.ifa.draw.standard.StandardDrawingView', 'CH.ifa.draw.standard.TextHolder', 'CH.ifa.draw.standard.ToggleGridCommand', 'CH.ifa.draw.standard.ToolButton', 'CH.ifa.draw.standard.WestHandle', 'CH.ifa.draw.util.Animatable', 'CH.ifa.draw.util.Clipboard', 'CH.ifa.draw.util.ColorEntry', 'CH.ifa.draw.util.ColorMap', 'CH.ifa.draw.util.Command', 'CH.ifa.draw.util.CommandButton', 'CH.ifa.draw.util.CommandChoice', 'CH.ifa.draw.util.CommandMenu', 'CH.ifa.draw.util.Filler', 'CH.ifa.draw.util.FloatingTextField', 'CH.ifa.draw.util.Geom', 'CH.ifa.draw.util.Iconkit', 'CH.ifa.draw.util.PaletteButton', 'CH.ifa.draw.util.PaletteIcon', 'CH.ifa.draw.util.PaletteLayout', 'CH.ifa.draw.util.PaletteListener', 'CH.ifa.draw.util.ReverseVectorEnumerator', 'CH.ifa.draw.util.Storable', 'CH.ifa.draw.util.StorableInput', 'CH.ifa.draw.util.StorableOutput'])"
      ]
     },
     "execution_count": 4,
     "metadata": {},
     "output_type": "execute_result"
    }
   ],
   "source": [
    "classes = [cls for cls in os.listdir(\"output/jhotdraw/txt/\") if not cls.endswith(\".txt\")]\n",
    "methods_map = {cls:{mth.replace('.txt', ''):nx.read_adjlist(f\"output/jhotdraw/txt/{cls}/{mth}\", create_using=nx.DiGraph) for mth in os.listdir(f\"output/jhotdraw/txt/{cls}\")} for cls in classes}\n",
    "# nx.nx_pydot.read_dot(f\"output/jhotdraw/txt/{cls}/{mth}\")\n",
    "methods_map.keys()"
   ]
  },
  {
   "cell_type": "code",
   "execution_count": 5,
   "metadata": {},
   "outputs": [
    {
     "data": {
      "text/plain": [
       "1583"
      ]
     },
     "execution_count": 5,
     "metadata": {},
     "output_type": "execute_result"
    }
   ],
   "source": [
    "methods = [item for sublist in methods_map.values() for item in sublist.values()]\n",
    "len(methods)"
   ]
  },
  {
   "cell_type": "code",
   "execution_count": 6,
   "metadata": {},
   "outputs": [
    {
     "data": {
      "text/plain": [
       "NodeDataView({'n_MethodDeclaration': {'feature': [0, 0, 0]}, 'n_0_Modifier': {'feature': [0, 0, 0]}, 'n_1_SimpleName': {'feature': [0, 0, 0]}, 'n_2_ClassOrInterfaceType': {'feature': [0, 0, 0]}, 'n_2_0_SimpleName': {'feature': [0, 0, 0]}, 'n_3_BlockStmt': {'feature': [0, 0, 0]}, 'n_3_0_ExpressionStmt': {'feature': [0, 0, 0]}, 'n_3_0_0_VariableDeclarationExpr': {'feature': [0, 0, 0]}, 'n_3_0_0_0_VariableDeclarator': {'feature': [0, 0, 0]}, 'n_3_0_0_0_0_ClassOrInterfaceType': {'feature': [0, 0, 0]}, 'n_3_0_0_0_0_0_SimpleName': {'feature': [0, 0, 0]}, 'n_3_0_0_0_1_SimpleName': {'feature': [0, 0, 0]}, 'n_3_0_0_0_2_ObjectCreationExpr': {'feature': [0, 0, 1]}, 'n_3_0_0_0_2_0_ClassOrInterfaceType': {'feature': [0, 0, 0]}, 'n_3_0_0_0_2_0_0_SimpleName': {'feature': [0, 0, 0]}, 'n_3_1_ExpressionStmt': {'feature': [0, 0, 0]}, 'n_3_1_0_MethodCallExpr': {'feature': [0, 0, 0]}, 'n_3_1_0_0_NameExpr': {'feature': [0, 0, 0]}, 'n_3_1_0_0_0_SimpleName': {'feature': [0, 0, 0]}, 'n_3_1_0_1_SimpleName': {'feature': [0, 0, 0]}, 'n_3_1_0_2_ObjectCreationExpr': {'feature': [0, 0, 1]}, 'n_3_1_0_2_0_ClassOrInterfaceType': {'feature': [0, 0, 0]}, 'n_3_1_0_2_0_0_SimpleName': {'feature': [0, 0, 0]}, 'n_3_1_0_2_1_IntegerLiteralExpr': {'feature': [0, 0, 0]}, 'n_3_1_0_2_2_ObjectCreationExpr': {'feature': [0, 0, 1]}, 'n_3_1_0_2_2_0_ClassOrInterfaceType': {'feature': [0, 0, 0]}, 'n_3_1_0_2_2_0_0_SimpleName': {'feature': [0, 0, 0]}, 'n_3_1_0_2_2_1_IntegerLiteralExpr': {'feature': [0, 0, 0]}, 'n_3_1_0_2_2_2_IntegerLiteralExpr': {'feature': [0, 0, 0]}, 'n_3_1_0_2_3_BooleanLiteralExpr': {'feature': [0, 0, 0]}, 'n_3_2_ReturnStmt': {'feature': [0, 0, 0]}, 'n_3_2_0_NameExpr': {'feature': [0, 0, 0]}, 'n_3_2_0_0_SimpleName': {'feature': [0, 0, 0]}})"
      ]
     },
     "execution_count": 6,
     "metadata": {},
     "output_type": "execute_result"
    }
   ],
   "source": [
    "for m in methods:\n",
    "  for n, data in m.nodes(data=True):\n",
    "    data['feature'] = [1 if 'IfStmt' in n or 'SwitchStmt' in n else 0,\n",
    "        1 if 'DoStmt' in n or 'WhileStmt' in n or 'ForStmt' in n else 0,\n",
    "        1 if 'ObjectCreationExpr' in n else 0]\n",
    "    # data['label'] = n.split('_')[-1]\n",
    "\n",
    "methods[3].nodes.data()"
   ]
  },
  {
   "cell_type": "code",
   "execution_count": 7,
   "metadata": {},
   "outputs": [],
   "source": [
    "# for cls in methods_map:\n",
    "#   for mtd in methods_map[cls]:\n",
    "#     G = methods_map[cls][mtd]\n",
    "#     os.makedirs(f\"output/jhotdraw/png/{cls}/\", exist_ok=True)\n",
    "#     plt.figure()\n",
    "#     nx.draw(G, pos=nx.nx_pydot.pydot_layout(G, prog='dot'))\n",
    "#     plt.savefig(f\"output/jhotdraw/png/{cls}/{mtd}.png\")"
   ]
  },
  {
   "cell_type": "code",
   "execution_count": 8,
   "metadata": {},
   "outputs": [
    {
     "data": {
      "text/html": [
       "<div>\n",
       "<style scoped>\n",
       "    .dataframe tbody tr th:only-of-type {\n",
       "        vertical-align: middle;\n",
       "    }\n",
       "\n",
       "    .dataframe tbody tr th {\n",
       "        vertical-align: top;\n",
       "    }\n",
       "\n",
       "    .dataframe thead th {\n",
       "        text-align: right;\n",
       "    }\n",
       "</style>\n",
       "<table border=\"1\" class=\"dataframe\">\n",
       "  <thead>\n",
       "    <tr style=\"text-align: right;\">\n",
       "      <th></th>\n",
       "      <th>nodes</th>\n",
       "      <th>edges</th>\n",
       "    </tr>\n",
       "  </thead>\n",
       "  <tbody>\n",
       "    <tr>\n",
       "      <th>count</th>\n",
       "      <td>1583.0</td>\n",
       "      <td>1583.0</td>\n",
       "    </tr>\n",
       "    <tr>\n",
       "      <th>mean</th>\n",
       "      <td>37.9</td>\n",
       "      <td>36.9</td>\n",
       "    </tr>\n",
       "    <tr>\n",
       "      <th>std</th>\n",
       "      <td>51.7</td>\n",
       "      <td>51.7</td>\n",
       "    </tr>\n",
       "    <tr>\n",
       "      <th>min</th>\n",
       "      <td>3.0</td>\n",
       "      <td>2.0</td>\n",
       "    </tr>\n",
       "    <tr>\n",
       "      <th>25%</th>\n",
       "      <td>12.0</td>\n",
       "      <td>11.0</td>\n",
       "    </tr>\n",
       "    <tr>\n",
       "      <th>50%</th>\n",
       "      <td>21.0</td>\n",
       "      <td>20.0</td>\n",
       "    </tr>\n",
       "    <tr>\n",
       "      <th>75%</th>\n",
       "      <td>45.0</td>\n",
       "      <td>44.0</td>\n",
       "    </tr>\n",
       "    <tr>\n",
       "      <th>max</th>\n",
       "      <td>772.0</td>\n",
       "      <td>771.0</td>\n",
       "    </tr>\n",
       "  </tbody>\n",
       "</table>\n",
       "</div>"
      ],
      "text/plain": [
       "        nodes   edges\n",
       "count  1583.0  1583.0\n",
       "mean     37.9    36.9\n",
       "std      51.7    51.7\n",
       "min       3.0     2.0\n",
       "25%      12.0    11.0\n",
       "50%      21.0    20.0\n",
       "75%      45.0    44.0\n",
       "max     772.0   771.0"
      ]
     },
     "execution_count": 8,
     "metadata": {},
     "output_type": "execute_result"
    }
   ],
   "source": [
    "graphs = [sg.StellarDiGraph.from_networkx(m, node_features='feature') for m in methods]\n",
    "\n",
    "# for i in range(len(methods)):\n",
    "#   g, m = graphs[i], methods[i]\n",
    "#   for n_id, n_data in g.nodes(data=True):\n",
    "#     n_data['feature'] = [m.nodes[n_id]['conditional'], m.nodes[n_id]['loop'], m.nodes[n_id]['creational']]\n",
    "\n",
    "\n",
    "summary = pd.DataFrame(\n",
    "    [(g.number_of_nodes(), g.number_of_edges()) for g in graphs],\n",
    "    columns=[\"nodes\", \"edges\"],\n",
    ")\n",
    "summary.describe().round(1)"
   ]
  },
  {
   "cell_type": "code",
   "execution_count": 9,
   "metadata": {},
   "outputs": [
    {
     "name": "stdout",
     "output_type": "stream",
     "text": [
      "StellarDiGraph: Directed multigraph\n",
      " Nodes: 18, Edges: 17\n",
      "\n",
      " Node types:\n",
      "  default: [18]\n",
      "    Features: float32 vector, length 3\n",
      "    Edge types: default-default->default\n",
      "\n",
      " Edge types:\n",
      "    default-default->default: [17]\n",
      "        Weights: all 1 (default)\n",
      "        Features: none\n"
     ]
    }
   ],
   "source": [
    "print(graphs[0].info())"
   ]
  },
  {
   "cell_type": "code",
   "execution_count": 10,
   "metadata": {},
   "outputs": [],
   "source": [
    "generator = sg.mapper.PaddedGraphGenerator(graphs)\n",
    "\n",
    "gc_model = sg.layer.GCNSupervisedGraphClassification(\n",
    "    [64, 32], [\"relu\", \"relu\"], generator, pool_all_layers=True\n",
    ")\n",
    "\n",
    "inp1, out1 = gc_model.in_out_tensors()\n",
    "inp2, out2 = gc_model.in_out_tensors()\n",
    "\n",
    "vec_distance = tf.norm(out1 - out2, axis=1)\n",
    "\n",
    "pair_model = keras.Model(inp1 + inp2, vec_distance)\n",
    "embedding_model = keras.Model(inp1, out1)"
   ]
  },
  {
   "cell_type": "code",
   "execution_count": 11,
   "metadata": {},
   "outputs": [],
   "source": [
    "def graph_distance(graph1, graph2):\n",
    "    g1 = graph1.to_networkx(feature_attr=None)\n",
    "    g2 = graph2.to_networkx(feature_attr=None)\n",
    "    return nx.graph_edit_distance(g1, g2)"
   ]
  },
  {
   "cell_type": "code",
   "execution_count": 12,
   "metadata": {},
   "outputs": [
    {
     "ename": "KeyboardInterrupt",
     "evalue": "",
     "output_type": "error",
     "traceback": [
      "\u001b[1;31m---------------------------------------------------------------------------\u001b[0m",
      "\u001b[1;31mKeyboardInterrupt\u001b[0m                         Traceback (most recent call last)",
      "\u001b[1;32m<ipython-input-12-c08b90558000>\u001b[0m in \u001b[0;36m<module>\u001b[1;34m\u001b[0m\n\u001b[0;32m      1\u001b[0m \u001b[0mgraph_idx\u001b[0m \u001b[1;33m=\u001b[0m \u001b[0mnp\u001b[0m\u001b[1;33m.\u001b[0m\u001b[0mrandom\u001b[0m\u001b[1;33m.\u001b[0m\u001b[0mRandomState\u001b[0m\u001b[1;33m(\u001b[0m\u001b[1;36m0\u001b[0m\u001b[1;33m)\u001b[0m\u001b[1;33m.\u001b[0m\u001b[0mrandint\u001b[0m\u001b[1;33m(\u001b[0m\u001b[0mlen\u001b[0m\u001b[1;33m(\u001b[0m\u001b[0mgraphs\u001b[0m\u001b[1;33m)\u001b[0m\u001b[1;33m,\u001b[0m \u001b[0msize\u001b[0m\u001b[1;33m=\u001b[0m\u001b[1;33m(\u001b[0m\u001b[1;36m100\u001b[0m\u001b[1;33m,\u001b[0m \u001b[1;36m2\u001b[0m\u001b[1;33m)\u001b[0m\u001b[1;33m)\u001b[0m\u001b[1;33m\u001b[0m\u001b[0m\n\u001b[1;32m----> 2\u001b[1;33m \u001b[0mtargets\u001b[0m \u001b[1;33m=\u001b[0m \u001b[1;33m[\u001b[0m\u001b[0mgraph_distance\u001b[0m\u001b[1;33m(\u001b[0m\u001b[0mgraphs\u001b[0m\u001b[1;33m[\u001b[0m\u001b[0mleft\u001b[0m\u001b[1;33m]\u001b[0m\u001b[1;33m,\u001b[0m \u001b[0mgraphs\u001b[0m\u001b[1;33m[\u001b[0m\u001b[0mright\u001b[0m\u001b[1;33m]\u001b[0m\u001b[1;33m)\u001b[0m \u001b[1;32mfor\u001b[0m \u001b[0mleft\u001b[0m\u001b[1;33m,\u001b[0m \u001b[0mright\u001b[0m \u001b[1;32min\u001b[0m \u001b[0mgraph_idx\u001b[0m\u001b[1;33m]\u001b[0m\u001b[1;33m\u001b[0m\u001b[0m\n\u001b[0m\u001b[0;32m      3\u001b[0m \u001b[0mtrain_gen\u001b[0m \u001b[1;33m=\u001b[0m \u001b[0mgenerator\u001b[0m\u001b[1;33m.\u001b[0m\u001b[0mflow\u001b[0m\u001b[1;33m(\u001b[0m\u001b[0mgraph_idx\u001b[0m\u001b[1;33m,\u001b[0m \u001b[0mbatch_size\u001b[0m\u001b[1;33m=\u001b[0m\u001b[1;36m10\u001b[0m\u001b[1;33m,\u001b[0m \u001b[0mtargets\u001b[0m\u001b[1;33m=\u001b[0m\u001b[0mtargets\u001b[0m\u001b[1;33m)\u001b[0m\u001b[1;33m\u001b[0m\u001b[0m\n",
      "\u001b[1;32m<ipython-input-12-c08b90558000>\u001b[0m in \u001b[0;36m<listcomp>\u001b[1;34m(.0)\u001b[0m\n\u001b[0;32m      1\u001b[0m \u001b[0mgraph_idx\u001b[0m \u001b[1;33m=\u001b[0m \u001b[0mnp\u001b[0m\u001b[1;33m.\u001b[0m\u001b[0mrandom\u001b[0m\u001b[1;33m.\u001b[0m\u001b[0mRandomState\u001b[0m\u001b[1;33m(\u001b[0m\u001b[1;36m0\u001b[0m\u001b[1;33m)\u001b[0m\u001b[1;33m.\u001b[0m\u001b[0mrandint\u001b[0m\u001b[1;33m(\u001b[0m\u001b[0mlen\u001b[0m\u001b[1;33m(\u001b[0m\u001b[0mgraphs\u001b[0m\u001b[1;33m)\u001b[0m\u001b[1;33m,\u001b[0m \u001b[0msize\u001b[0m\u001b[1;33m=\u001b[0m\u001b[1;33m(\u001b[0m\u001b[1;36m100\u001b[0m\u001b[1;33m,\u001b[0m \u001b[1;36m2\u001b[0m\u001b[1;33m)\u001b[0m\u001b[1;33m)\u001b[0m\u001b[1;33m\u001b[0m\u001b[0m\n\u001b[1;32m----> 2\u001b[1;33m \u001b[0mtargets\u001b[0m \u001b[1;33m=\u001b[0m \u001b[1;33m[\u001b[0m\u001b[0mgraph_distance\u001b[0m\u001b[1;33m(\u001b[0m\u001b[0mgraphs\u001b[0m\u001b[1;33m[\u001b[0m\u001b[0mleft\u001b[0m\u001b[1;33m]\u001b[0m\u001b[1;33m,\u001b[0m \u001b[0mgraphs\u001b[0m\u001b[1;33m[\u001b[0m\u001b[0mright\u001b[0m\u001b[1;33m]\u001b[0m\u001b[1;33m)\u001b[0m \u001b[1;32mfor\u001b[0m \u001b[0mleft\u001b[0m\u001b[1;33m,\u001b[0m \u001b[0mright\u001b[0m \u001b[1;32min\u001b[0m \u001b[0mgraph_idx\u001b[0m\u001b[1;33m]\u001b[0m\u001b[1;33m\u001b[0m\u001b[0m\n\u001b[0m\u001b[0;32m      3\u001b[0m \u001b[0mtrain_gen\u001b[0m \u001b[1;33m=\u001b[0m \u001b[0mgenerator\u001b[0m\u001b[1;33m.\u001b[0m\u001b[0mflow\u001b[0m\u001b[1;33m(\u001b[0m\u001b[0mgraph_idx\u001b[0m\u001b[1;33m,\u001b[0m \u001b[0mbatch_size\u001b[0m\u001b[1;33m=\u001b[0m\u001b[1;36m10\u001b[0m\u001b[1;33m,\u001b[0m \u001b[0mtargets\u001b[0m\u001b[1;33m=\u001b[0m\u001b[0mtargets\u001b[0m\u001b[1;33m)\u001b[0m\u001b[1;33m\u001b[0m\u001b[0m\n",
      "\u001b[1;32m<ipython-input-11-5dfc43a98154>\u001b[0m in \u001b[0;36mgraph_distance\u001b[1;34m(graph1, graph2)\u001b[0m\n\u001b[0;32m      2\u001b[0m     \u001b[0mg1\u001b[0m \u001b[1;33m=\u001b[0m \u001b[0mgraph1\u001b[0m\u001b[1;33m.\u001b[0m\u001b[0mto_networkx\u001b[0m\u001b[1;33m(\u001b[0m\u001b[0mfeature_attr\u001b[0m\u001b[1;33m=\u001b[0m\u001b[1;32mNone\u001b[0m\u001b[1;33m)\u001b[0m\u001b[1;33m\u001b[0m\u001b[0m\n\u001b[0;32m      3\u001b[0m     \u001b[0mg2\u001b[0m \u001b[1;33m=\u001b[0m \u001b[0mgraph2\u001b[0m\u001b[1;33m.\u001b[0m\u001b[0mto_networkx\u001b[0m\u001b[1;33m(\u001b[0m\u001b[0mfeature_attr\u001b[0m\u001b[1;33m=\u001b[0m\u001b[1;32mNone\u001b[0m\u001b[1;33m)\u001b[0m\u001b[1;33m\u001b[0m\u001b[0m\n\u001b[1;32m----> 4\u001b[1;33m     \u001b[1;32mreturn\u001b[0m \u001b[0mnx\u001b[0m\u001b[1;33m.\u001b[0m\u001b[0mgraph_edit_distance\u001b[0m\u001b[1;33m(\u001b[0m\u001b[0mg1\u001b[0m\u001b[1;33m,\u001b[0m \u001b[0mg2\u001b[0m\u001b[1;33m)\u001b[0m\u001b[1;33m\u001b[0m\u001b[0m\n\u001b[0m",
      "\u001b[1;32mc:\\Users\\20215365\\Applications\\Miniconda3-4.5.4\\lib\\site-packages\\networkx\\algorithms\\similarity.py\u001b[0m in \u001b[0;36mgraph_edit_distance\u001b[1;34m(G1, G2, node_match, edge_match, node_subst_cost, node_del_cost, node_ins_cost, edge_subst_cost, edge_del_cost, edge_ins_cost, roots, upper_bound, timeout)\u001b[0m\n\u001b[0;32m    195\u001b[0m         \u001b[1;32mTrue\u001b[0m\u001b[1;33m,\u001b[0m\u001b[1;33m\u001b[0m\u001b[0m\n\u001b[0;32m    196\u001b[0m         \u001b[0mroots\u001b[0m\u001b[1;33m,\u001b[0m\u001b[1;33m\u001b[0m\u001b[0m\n\u001b[1;32m--> 197\u001b[1;33m         \u001b[0mtimeout\u001b[0m\u001b[1;33m,\u001b[0m\u001b[1;33m\u001b[0m\u001b[0m\n\u001b[0m\u001b[0;32m    198\u001b[0m     ):\n\u001b[0;32m    199\u001b[0m         \u001b[1;31m# assert bestcost is None or cost < bestcost\u001b[0m\u001b[1;33m\u001b[0m\u001b[1;33m\u001b[0m\u001b[0m\n",
      "\u001b[1;32mc:\\Users\\20215365\\Applications\\Miniconda3-4.5.4\\lib\\site-packages\\networkx\\algorithms\\similarity.py\u001b[0m in \u001b[0;36moptimize_edit_paths\u001b[1;34m(G1, G2, node_match, edge_match, node_subst_cost, node_del_cost, node_ins_cost, edge_subst_cost, edge_del_cost, edge_ins_cost, upper_bound, strictly_decreasing, roots, timeout)\u001b[0m\n\u001b[0;32m   1178\u001b[0m \u001b[1;33m\u001b[0m\u001b[0m\n\u001b[0;32m   1179\u001b[0m     for vertex_path, edge_path, cost in get_edit_paths(\n\u001b[1;32m-> 1180\u001b[1;33m         \u001b[0mdone_uv\u001b[0m\u001b[1;33m,\u001b[0m \u001b[0mpending_u\u001b[0m\u001b[1;33m,\u001b[0m \u001b[0mpending_v\u001b[0m\u001b[1;33m,\u001b[0m \u001b[0mCv\u001b[0m\u001b[1;33m,\u001b[0m \u001b[1;33m[\u001b[0m\u001b[1;33m]\u001b[0m\u001b[1;33m,\u001b[0m \u001b[0mpending_g\u001b[0m\u001b[1;33m,\u001b[0m \u001b[0mpending_h\u001b[0m\u001b[1;33m,\u001b[0m \u001b[0mCe\u001b[0m\u001b[1;33m,\u001b[0m \u001b[0minitial_cost\u001b[0m\u001b[1;33m\u001b[0m\u001b[0m\n\u001b[0m\u001b[0;32m   1181\u001b[0m     ):\n\u001b[0;32m   1182\u001b[0m         \u001b[1;31m# assert sorted(G1.nodes) == sorted(u for u, v in vertex_path if u is not None)\u001b[0m\u001b[1;33m\u001b[0m\u001b[1;33m\u001b[0m\u001b[0m\n",
      "\u001b[1;32mc:\\Users\\20215365\\Applications\\Miniconda3-4.5.4\\lib\\site-packages\\networkx\\algorithms\\similarity.py\u001b[0m in \u001b[0;36mget_edit_paths\u001b[1;34m(matched_uv, pending_u, pending_v, Cv, matched_gh, pending_g, pending_h, Ce, matched_cost)\u001b[0m\n\u001b[0;32m   1017\u001b[0m                     \u001b[0mpending_h\u001b[0m\u001b[1;33m,\u001b[0m\u001b[1;33m\u001b[0m\u001b[0m\n\u001b[0;32m   1018\u001b[0m                     \u001b[0mCe_xy\u001b[0m\u001b[1;33m,\u001b[0m\u001b[1;33m\u001b[0m\u001b[0m\n\u001b[1;32m-> 1019\u001b[1;33m                     \u001b[0mmatched_cost\u001b[0m \u001b[1;33m+\u001b[0m \u001b[0medit_cost\u001b[0m\u001b[1;33m,\u001b[0m\u001b[1;33m\u001b[0m\u001b[0m\n\u001b[0m\u001b[0;32m   1020\u001b[0m                 )\n\u001b[0;32m   1021\u001b[0m \u001b[1;33m\u001b[0m\u001b[0m\n",
      "\u001b[1;32mc:\\Users\\20215365\\Applications\\Miniconda3-4.5.4\\lib\\site-packages\\networkx\\algorithms\\similarity.py\u001b[0m in \u001b[0;36mget_edit_paths\u001b[1;34m(matched_uv, pending_u, pending_v, Cv, matched_gh, pending_g, pending_h, Ce, matched_cost)\u001b[0m\n\u001b[0;32m   1017\u001b[0m                     \u001b[0mpending_h\u001b[0m\u001b[1;33m,\u001b[0m\u001b[1;33m\u001b[0m\u001b[0m\n\u001b[0;32m   1018\u001b[0m                     \u001b[0mCe_xy\u001b[0m\u001b[1;33m,\u001b[0m\u001b[1;33m\u001b[0m\u001b[0m\n\u001b[1;32m-> 1019\u001b[1;33m                     \u001b[0mmatched_cost\u001b[0m \u001b[1;33m+\u001b[0m \u001b[0medit_cost\u001b[0m\u001b[1;33m,\u001b[0m\u001b[1;33m\u001b[0m\u001b[0m\n\u001b[0m\u001b[0;32m   1020\u001b[0m                 )\n\u001b[0;32m   1021\u001b[0m \u001b[1;33m\u001b[0m\u001b[0m\n",
      "\u001b[1;32mc:\\Users\\20215365\\Applications\\Miniconda3-4.5.4\\lib\\site-packages\\networkx\\algorithms\\similarity.py\u001b[0m in \u001b[0;36mget_edit_paths\u001b[1;34m(matched_uv, pending_u, pending_v, Cv, matched_gh, pending_g, pending_h, Ce, matched_cost)\u001b[0m\n\u001b[0;32m   1017\u001b[0m                     \u001b[0mpending_h\u001b[0m\u001b[1;33m,\u001b[0m\u001b[1;33m\u001b[0m\u001b[0m\n\u001b[0;32m   1018\u001b[0m                     \u001b[0mCe_xy\u001b[0m\u001b[1;33m,\u001b[0m\u001b[1;33m\u001b[0m\u001b[0m\n\u001b[1;32m-> 1019\u001b[1;33m                     \u001b[0mmatched_cost\u001b[0m \u001b[1;33m+\u001b[0m \u001b[0medit_cost\u001b[0m\u001b[1;33m,\u001b[0m\u001b[1;33m\u001b[0m\u001b[0m\n\u001b[0m\u001b[0;32m   1020\u001b[0m                 )\n\u001b[0;32m   1021\u001b[0m \u001b[1;33m\u001b[0m\u001b[0m\n",
      "\u001b[1;32mc:\\Users\\20215365\\Applications\\Miniconda3-4.5.4\\lib\\site-packages\\networkx\\algorithms\\similarity.py\u001b[0m in \u001b[0;36mget_edit_paths\u001b[1;34m(matched_uv, pending_u, pending_v, Cv, matched_gh, pending_g, pending_h, Ce, matched_cost)\u001b[0m\n\u001b[0;32m   1017\u001b[0m                     \u001b[0mpending_h\u001b[0m\u001b[1;33m,\u001b[0m\u001b[1;33m\u001b[0m\u001b[0m\n\u001b[0;32m   1018\u001b[0m                     \u001b[0mCe_xy\u001b[0m\u001b[1;33m,\u001b[0m\u001b[1;33m\u001b[0m\u001b[0m\n\u001b[1;32m-> 1019\u001b[1;33m                     \u001b[0mmatched_cost\u001b[0m \u001b[1;33m+\u001b[0m \u001b[0medit_cost\u001b[0m\u001b[1;33m,\u001b[0m\u001b[1;33m\u001b[0m\u001b[0m\n\u001b[0m\u001b[0;32m   1020\u001b[0m                 )\n\u001b[0;32m   1021\u001b[0m \u001b[1;33m\u001b[0m\u001b[0m\n",
      "\u001b[1;32mc:\\Users\\20215365\\Applications\\Miniconda3-4.5.4\\lib\\site-packages\\networkx\\algorithms\\similarity.py\u001b[0m in \u001b[0;36mget_edit_paths\u001b[1;34m(matched_uv, pending_u, pending_v, Cv, matched_gh, pending_g, pending_h, Ce, matched_cost)\u001b[0m\n\u001b[0;32m   1017\u001b[0m                     \u001b[0mpending_h\u001b[0m\u001b[1;33m,\u001b[0m\u001b[1;33m\u001b[0m\u001b[0m\n\u001b[0;32m   1018\u001b[0m                     \u001b[0mCe_xy\u001b[0m\u001b[1;33m,\u001b[0m\u001b[1;33m\u001b[0m\u001b[0m\n\u001b[1;32m-> 1019\u001b[1;33m                     \u001b[0mmatched_cost\u001b[0m \u001b[1;33m+\u001b[0m \u001b[0medit_cost\u001b[0m\u001b[1;33m,\u001b[0m\u001b[1;33m\u001b[0m\u001b[0m\n\u001b[0m\u001b[0;32m   1020\u001b[0m                 )\n\u001b[0;32m   1021\u001b[0m \u001b[1;33m\u001b[0m\u001b[0m\n",
      "\u001b[1;32mc:\\Users\\20215365\\Applications\\Miniconda3-4.5.4\\lib\\site-packages\\networkx\\algorithms\\similarity.py\u001b[0m in \u001b[0;36mget_edit_paths\u001b[1;34m(matched_uv, pending_u, pending_v, Cv, matched_gh, pending_g, pending_h, Ce, matched_cost)\u001b[0m\n\u001b[0;32m   1017\u001b[0m                     \u001b[0mpending_h\u001b[0m\u001b[1;33m,\u001b[0m\u001b[1;33m\u001b[0m\u001b[0m\n\u001b[0;32m   1018\u001b[0m                     \u001b[0mCe_xy\u001b[0m\u001b[1;33m,\u001b[0m\u001b[1;33m\u001b[0m\u001b[0m\n\u001b[1;32m-> 1019\u001b[1;33m                     \u001b[0mmatched_cost\u001b[0m \u001b[1;33m+\u001b[0m \u001b[0medit_cost\u001b[0m\u001b[1;33m,\u001b[0m\u001b[1;33m\u001b[0m\u001b[0m\n\u001b[0m\u001b[0;32m   1020\u001b[0m                 )\n\u001b[0;32m   1021\u001b[0m \u001b[1;33m\u001b[0m\u001b[0m\n",
      "\u001b[1;32mc:\\Users\\20215365\\Applications\\Miniconda3-4.5.4\\lib\\site-packages\\networkx\\algorithms\\similarity.py\u001b[0m in \u001b[0;36mget_edit_paths\u001b[1;34m(matched_uv, pending_u, pending_v, Cv, matched_gh, pending_g, pending_h, Ce, matched_cost)\u001b[0m\n\u001b[0;32m   1017\u001b[0m                     \u001b[0mpending_h\u001b[0m\u001b[1;33m,\u001b[0m\u001b[1;33m\u001b[0m\u001b[0m\n\u001b[0;32m   1018\u001b[0m                     \u001b[0mCe_xy\u001b[0m\u001b[1;33m,\u001b[0m\u001b[1;33m\u001b[0m\u001b[0m\n\u001b[1;32m-> 1019\u001b[1;33m                     \u001b[0mmatched_cost\u001b[0m \u001b[1;33m+\u001b[0m \u001b[0medit_cost\u001b[0m\u001b[1;33m,\u001b[0m\u001b[1;33m\u001b[0m\u001b[0m\n\u001b[0m\u001b[0;32m   1020\u001b[0m                 )\n\u001b[0;32m   1021\u001b[0m \u001b[1;33m\u001b[0m\u001b[0m\n",
      "\u001b[1;32mc:\\Users\\20215365\\Applications\\Miniconda3-4.5.4\\lib\\site-packages\\networkx\\algorithms\\similarity.py\u001b[0m in \u001b[0;36mget_edit_paths\u001b[1;34m(matched_uv, pending_u, pending_v, Cv, matched_gh, pending_g, pending_h, Ce, matched_cost)\u001b[0m\n\u001b[0;32m   1017\u001b[0m                     \u001b[0mpending_h\u001b[0m\u001b[1;33m,\u001b[0m\u001b[1;33m\u001b[0m\u001b[0m\n\u001b[0;32m   1018\u001b[0m                     \u001b[0mCe_xy\u001b[0m\u001b[1;33m,\u001b[0m\u001b[1;33m\u001b[0m\u001b[0m\n\u001b[1;32m-> 1019\u001b[1;33m                     \u001b[0mmatched_cost\u001b[0m \u001b[1;33m+\u001b[0m \u001b[0medit_cost\u001b[0m\u001b[1;33m,\u001b[0m\u001b[1;33m\u001b[0m\u001b[0m\n\u001b[0m\u001b[0;32m   1020\u001b[0m                 )\n\u001b[0;32m   1021\u001b[0m \u001b[1;33m\u001b[0m\u001b[0m\n",
      "\u001b[1;32mc:\\Users\\20215365\\Applications\\Miniconda3-4.5.4\\lib\\site-packages\\networkx\\algorithms\\similarity.py\u001b[0m in \u001b[0;36mget_edit_paths\u001b[1;34m(matched_uv, pending_u, pending_v, Cv, matched_gh, pending_g, pending_h, Ce, matched_cost)\u001b[0m\n\u001b[0;32m   1017\u001b[0m                     \u001b[0mpending_h\u001b[0m\u001b[1;33m,\u001b[0m\u001b[1;33m\u001b[0m\u001b[0m\n\u001b[0;32m   1018\u001b[0m                     \u001b[0mCe_xy\u001b[0m\u001b[1;33m,\u001b[0m\u001b[1;33m\u001b[0m\u001b[0m\n\u001b[1;32m-> 1019\u001b[1;33m                     \u001b[0mmatched_cost\u001b[0m \u001b[1;33m+\u001b[0m \u001b[0medit_cost\u001b[0m\u001b[1;33m,\u001b[0m\u001b[1;33m\u001b[0m\u001b[0m\n\u001b[0m\u001b[0;32m   1020\u001b[0m                 )\n\u001b[0;32m   1021\u001b[0m \u001b[1;33m\u001b[0m\u001b[0m\n",
      "\u001b[1;32mc:\\Users\\20215365\\Applications\\Miniconda3-4.5.4\\lib\\site-packages\\networkx\\algorithms\\similarity.py\u001b[0m in \u001b[0;36mget_edit_paths\u001b[1;34m(matched_uv, pending_u, pending_v, Cv, matched_gh, pending_g, pending_h, Ce, matched_cost)\u001b[0m\n\u001b[0;32m   1017\u001b[0m                     \u001b[0mpending_h\u001b[0m\u001b[1;33m,\u001b[0m\u001b[1;33m\u001b[0m\u001b[0m\n\u001b[0;32m   1018\u001b[0m                     \u001b[0mCe_xy\u001b[0m\u001b[1;33m,\u001b[0m\u001b[1;33m\u001b[0m\u001b[0m\n\u001b[1;32m-> 1019\u001b[1;33m                     \u001b[0mmatched_cost\u001b[0m \u001b[1;33m+\u001b[0m \u001b[0medit_cost\u001b[0m\u001b[1;33m,\u001b[0m\u001b[1;33m\u001b[0m\u001b[0m\n\u001b[0m\u001b[0;32m   1020\u001b[0m                 )\n\u001b[0;32m   1021\u001b[0m \u001b[1;33m\u001b[0m\u001b[0m\n",
      "\u001b[1;32mc:\\Users\\20215365\\Applications\\Miniconda3-4.5.4\\lib\\site-packages\\networkx\\algorithms\\similarity.py\u001b[0m in \u001b[0;36mget_edit_paths\u001b[1;34m(matched_uv, pending_u, pending_v, Cv, matched_gh, pending_g, pending_h, Ce, matched_cost)\u001b[0m\n\u001b[0;32m   1017\u001b[0m                     \u001b[0mpending_h\u001b[0m\u001b[1;33m,\u001b[0m\u001b[1;33m\u001b[0m\u001b[0m\n\u001b[0;32m   1018\u001b[0m                     \u001b[0mCe_xy\u001b[0m\u001b[1;33m,\u001b[0m\u001b[1;33m\u001b[0m\u001b[0m\n\u001b[1;32m-> 1019\u001b[1;33m                     \u001b[0mmatched_cost\u001b[0m \u001b[1;33m+\u001b[0m \u001b[0medit_cost\u001b[0m\u001b[1;33m,\u001b[0m\u001b[1;33m\u001b[0m\u001b[0m\n\u001b[0m\u001b[0;32m   1020\u001b[0m                 )\n\u001b[0;32m   1021\u001b[0m \u001b[1;33m\u001b[0m\u001b[0m\n",
      "\u001b[1;32mc:\\Users\\20215365\\Applications\\Miniconda3-4.5.4\\lib\\site-packages\\networkx\\algorithms\\similarity.py\u001b[0m in \u001b[0;36mget_edit_paths\u001b[1;34m(matched_uv, pending_u, pending_v, Cv, matched_gh, pending_g, pending_h, Ce, matched_cost)\u001b[0m\n\u001b[0;32m   1017\u001b[0m                     \u001b[0mpending_h\u001b[0m\u001b[1;33m,\u001b[0m\u001b[1;33m\u001b[0m\u001b[0m\n\u001b[0;32m   1018\u001b[0m                     \u001b[0mCe_xy\u001b[0m\u001b[1;33m,\u001b[0m\u001b[1;33m\u001b[0m\u001b[0m\n\u001b[1;32m-> 1019\u001b[1;33m                     \u001b[0mmatched_cost\u001b[0m \u001b[1;33m+\u001b[0m \u001b[0medit_cost\u001b[0m\u001b[1;33m,\u001b[0m\u001b[1;33m\u001b[0m\u001b[0m\n\u001b[0m\u001b[0;32m   1020\u001b[0m                 )\n\u001b[0;32m   1021\u001b[0m \u001b[1;33m\u001b[0m\u001b[0m\n",
      "\u001b[1;32mc:\\Users\\20215365\\Applications\\Miniconda3-4.5.4\\lib\\site-packages\\networkx\\algorithms\\similarity.py\u001b[0m in \u001b[0;36mget_edit_paths\u001b[1;34m(matched_uv, pending_u, pending_v, Cv, matched_gh, pending_g, pending_h, Ce, matched_cost)\u001b[0m\n\u001b[0;32m   1017\u001b[0m                     \u001b[0mpending_h\u001b[0m\u001b[1;33m,\u001b[0m\u001b[1;33m\u001b[0m\u001b[0m\n\u001b[0;32m   1018\u001b[0m                     \u001b[0mCe_xy\u001b[0m\u001b[1;33m,\u001b[0m\u001b[1;33m\u001b[0m\u001b[0m\n\u001b[1;32m-> 1019\u001b[1;33m                     \u001b[0mmatched_cost\u001b[0m \u001b[1;33m+\u001b[0m \u001b[0medit_cost\u001b[0m\u001b[1;33m,\u001b[0m\u001b[1;33m\u001b[0m\u001b[0m\n\u001b[0m\u001b[0;32m   1020\u001b[0m                 )\n\u001b[0;32m   1021\u001b[0m \u001b[1;33m\u001b[0m\u001b[0m\n",
      "\u001b[1;32mc:\\Users\\20215365\\Applications\\Miniconda3-4.5.4\\lib\\site-packages\\networkx\\algorithms\\similarity.py\u001b[0m in \u001b[0;36mget_edit_paths\u001b[1;34m(matched_uv, pending_u, pending_v, Cv, matched_gh, pending_g, pending_h, Ce, matched_cost)\u001b[0m\n\u001b[0;32m   1017\u001b[0m                     \u001b[0mpending_h\u001b[0m\u001b[1;33m,\u001b[0m\u001b[1;33m\u001b[0m\u001b[0m\n\u001b[0;32m   1018\u001b[0m                     \u001b[0mCe_xy\u001b[0m\u001b[1;33m,\u001b[0m\u001b[1;33m\u001b[0m\u001b[0m\n\u001b[1;32m-> 1019\u001b[1;33m                     \u001b[0mmatched_cost\u001b[0m \u001b[1;33m+\u001b[0m \u001b[0medit_cost\u001b[0m\u001b[1;33m,\u001b[0m\u001b[1;33m\u001b[0m\u001b[0m\n\u001b[0m\u001b[0;32m   1020\u001b[0m                 )\n\u001b[0;32m   1021\u001b[0m \u001b[1;33m\u001b[0m\u001b[0m\n",
      "\u001b[1;32mc:\\Users\\20215365\\Applications\\Miniconda3-4.5.4\\lib\\site-packages\\networkx\\algorithms\\similarity.py\u001b[0m in \u001b[0;36mget_edit_paths\u001b[1;34m(matched_uv, pending_u, pending_v, Cv, matched_gh, pending_g, pending_h, Ce, matched_cost)\u001b[0m\n\u001b[0;32m   1017\u001b[0m                     \u001b[0mpending_h\u001b[0m\u001b[1;33m,\u001b[0m\u001b[1;33m\u001b[0m\u001b[0m\n\u001b[0;32m   1018\u001b[0m                     \u001b[0mCe_xy\u001b[0m\u001b[1;33m,\u001b[0m\u001b[1;33m\u001b[0m\u001b[0m\n\u001b[1;32m-> 1019\u001b[1;33m                     \u001b[0mmatched_cost\u001b[0m \u001b[1;33m+\u001b[0m \u001b[0medit_cost\u001b[0m\u001b[1;33m,\u001b[0m\u001b[1;33m\u001b[0m\u001b[0m\n\u001b[0m\u001b[0;32m   1020\u001b[0m                 )\n\u001b[0;32m   1021\u001b[0m \u001b[1;33m\u001b[0m\u001b[0m\n",
      "\u001b[1;32mc:\\Users\\20215365\\Applications\\Miniconda3-4.5.4\\lib\\site-packages\\networkx\\algorithms\\similarity.py\u001b[0m in \u001b[0;36mget_edit_paths\u001b[1;34m(matched_uv, pending_u, pending_v, Cv, matched_gh, pending_g, pending_h, Ce, matched_cost)\u001b[0m\n\u001b[0;32m   1017\u001b[0m                     \u001b[0mpending_h\u001b[0m\u001b[1;33m,\u001b[0m\u001b[1;33m\u001b[0m\u001b[0m\n\u001b[0;32m   1018\u001b[0m                     \u001b[0mCe_xy\u001b[0m\u001b[1;33m,\u001b[0m\u001b[1;33m\u001b[0m\u001b[0m\n\u001b[1;32m-> 1019\u001b[1;33m                     \u001b[0mmatched_cost\u001b[0m \u001b[1;33m+\u001b[0m \u001b[0medit_cost\u001b[0m\u001b[1;33m,\u001b[0m\u001b[1;33m\u001b[0m\u001b[0m\n\u001b[0m\u001b[0;32m   1020\u001b[0m                 )\n\u001b[0;32m   1021\u001b[0m \u001b[1;33m\u001b[0m\u001b[0m\n",
      "\u001b[1;32mc:\\Users\\20215365\\Applications\\Miniconda3-4.5.4\\lib\\site-packages\\networkx\\algorithms\\similarity.py\u001b[0m in \u001b[0;36mget_edit_paths\u001b[1;34m(matched_uv, pending_u, pending_v, Cv, matched_gh, pending_g, pending_h, Ce, matched_cost)\u001b[0m\n\u001b[0;32m   1017\u001b[0m                     \u001b[0mpending_h\u001b[0m\u001b[1;33m,\u001b[0m\u001b[1;33m\u001b[0m\u001b[0m\n\u001b[0;32m   1018\u001b[0m                     \u001b[0mCe_xy\u001b[0m\u001b[1;33m,\u001b[0m\u001b[1;33m\u001b[0m\u001b[0m\n\u001b[1;32m-> 1019\u001b[1;33m                     \u001b[0mmatched_cost\u001b[0m \u001b[1;33m+\u001b[0m \u001b[0medit_cost\u001b[0m\u001b[1;33m,\u001b[0m\u001b[1;33m\u001b[0m\u001b[0m\n\u001b[0m\u001b[0;32m   1020\u001b[0m                 )\n\u001b[0;32m   1021\u001b[0m \u001b[1;33m\u001b[0m\u001b[0m\n",
      "\u001b[1;32mc:\\Users\\20215365\\Applications\\Miniconda3-4.5.4\\lib\\site-packages\\networkx\\algorithms\\similarity.py\u001b[0m in \u001b[0;36mget_edit_paths\u001b[1;34m(matched_uv, pending_u, pending_v, Cv, matched_gh, pending_g, pending_h, Ce, matched_cost)\u001b[0m\n\u001b[0;32m   1017\u001b[0m                     \u001b[0mpending_h\u001b[0m\u001b[1;33m,\u001b[0m\u001b[1;33m\u001b[0m\u001b[0m\n\u001b[0;32m   1018\u001b[0m                     \u001b[0mCe_xy\u001b[0m\u001b[1;33m,\u001b[0m\u001b[1;33m\u001b[0m\u001b[0m\n\u001b[1;32m-> 1019\u001b[1;33m                     \u001b[0mmatched_cost\u001b[0m \u001b[1;33m+\u001b[0m \u001b[0medit_cost\u001b[0m\u001b[1;33m,\u001b[0m\u001b[1;33m\u001b[0m\u001b[0m\n\u001b[0m\u001b[0;32m   1020\u001b[0m                 )\n\u001b[0;32m   1021\u001b[0m \u001b[1;33m\u001b[0m\u001b[0m\n",
      "\u001b[1;32mc:\\Users\\20215365\\Applications\\Miniconda3-4.5.4\\lib\\site-packages\\networkx\\algorithms\\similarity.py\u001b[0m in \u001b[0;36mget_edit_paths\u001b[1;34m(matched_uv, pending_u, pending_v, Cv, matched_gh, pending_g, pending_h, Ce, matched_cost)\u001b[0m\n\u001b[0;32m   1017\u001b[0m                     \u001b[0mpending_h\u001b[0m\u001b[1;33m,\u001b[0m\u001b[1;33m\u001b[0m\u001b[0m\n\u001b[0;32m   1018\u001b[0m                     \u001b[0mCe_xy\u001b[0m\u001b[1;33m,\u001b[0m\u001b[1;33m\u001b[0m\u001b[0m\n\u001b[1;32m-> 1019\u001b[1;33m                     \u001b[0mmatched_cost\u001b[0m \u001b[1;33m+\u001b[0m \u001b[0medit_cost\u001b[0m\u001b[1;33m,\u001b[0m\u001b[1;33m\u001b[0m\u001b[0m\n\u001b[0m\u001b[0;32m   1020\u001b[0m                 )\n\u001b[0;32m   1021\u001b[0m \u001b[1;33m\u001b[0m\u001b[0m\n",
      "\u001b[1;32mc:\\Users\\20215365\\Applications\\Miniconda3-4.5.4\\lib\\site-packages\\networkx\\algorithms\\similarity.py\u001b[0m in \u001b[0;36mget_edit_paths\u001b[1;34m(matched_uv, pending_u, pending_v, Cv, matched_gh, pending_g, pending_h, Ce, matched_cost)\u001b[0m\n\u001b[0;32m   1017\u001b[0m                     \u001b[0mpending_h\u001b[0m\u001b[1;33m,\u001b[0m\u001b[1;33m\u001b[0m\u001b[0m\n\u001b[0;32m   1018\u001b[0m                     \u001b[0mCe_xy\u001b[0m\u001b[1;33m,\u001b[0m\u001b[1;33m\u001b[0m\u001b[0m\n\u001b[1;32m-> 1019\u001b[1;33m                     \u001b[0mmatched_cost\u001b[0m \u001b[1;33m+\u001b[0m \u001b[0medit_cost\u001b[0m\u001b[1;33m,\u001b[0m\u001b[1;33m\u001b[0m\u001b[0m\n\u001b[0m\u001b[0;32m   1020\u001b[0m                 )\n\u001b[0;32m   1021\u001b[0m \u001b[1;33m\u001b[0m\u001b[0m\n",
      "\u001b[1;32mc:\\Users\\20215365\\Applications\\Miniconda3-4.5.4\\lib\\site-packages\\networkx\\algorithms\\similarity.py\u001b[0m in \u001b[0;36mget_edit_paths\u001b[1;34m(matched_uv, pending_u, pending_v, Cv, matched_gh, pending_g, pending_h, Ce, matched_cost)\u001b[0m\n\u001b[0;32m   1017\u001b[0m                     \u001b[0mpending_h\u001b[0m\u001b[1;33m,\u001b[0m\u001b[1;33m\u001b[0m\u001b[0m\n\u001b[0;32m   1018\u001b[0m                     \u001b[0mCe_xy\u001b[0m\u001b[1;33m,\u001b[0m\u001b[1;33m\u001b[0m\u001b[0m\n\u001b[1;32m-> 1019\u001b[1;33m                     \u001b[0mmatched_cost\u001b[0m \u001b[1;33m+\u001b[0m \u001b[0medit_cost\u001b[0m\u001b[1;33m,\u001b[0m\u001b[1;33m\u001b[0m\u001b[0m\n\u001b[0m\u001b[0;32m   1020\u001b[0m                 )\n\u001b[0;32m   1021\u001b[0m \u001b[1;33m\u001b[0m\u001b[0m\n",
      "\u001b[1;32mc:\\Users\\20215365\\Applications\\Miniconda3-4.5.4\\lib\\site-packages\\networkx\\algorithms\\similarity.py\u001b[0m in \u001b[0;36mget_edit_paths\u001b[1;34m(matched_uv, pending_u, pending_v, Cv, matched_gh, pending_g, pending_h, Ce, matched_cost)\u001b[0m\n\u001b[0;32m   1017\u001b[0m                     \u001b[0mpending_h\u001b[0m\u001b[1;33m,\u001b[0m\u001b[1;33m\u001b[0m\u001b[0m\n\u001b[0;32m   1018\u001b[0m                     \u001b[0mCe_xy\u001b[0m\u001b[1;33m,\u001b[0m\u001b[1;33m\u001b[0m\u001b[0m\n\u001b[1;32m-> 1019\u001b[1;33m                     \u001b[0mmatched_cost\u001b[0m \u001b[1;33m+\u001b[0m \u001b[0medit_cost\u001b[0m\u001b[1;33m,\u001b[0m\u001b[1;33m\u001b[0m\u001b[0m\n\u001b[0m\u001b[0;32m   1020\u001b[0m                 )\n\u001b[0;32m   1021\u001b[0m \u001b[1;33m\u001b[0m\u001b[0m\n",
      "\u001b[1;32mc:\\Users\\20215365\\Applications\\Miniconda3-4.5.4\\lib\\site-packages\\networkx\\algorithms\\similarity.py\u001b[0m in \u001b[0;36mget_edit_paths\u001b[1;34m(matched_uv, pending_u, pending_v, Cv, matched_gh, pending_g, pending_h, Ce, matched_cost)\u001b[0m\n\u001b[0;32m   1017\u001b[0m                     \u001b[0mpending_h\u001b[0m\u001b[1;33m,\u001b[0m\u001b[1;33m\u001b[0m\u001b[0m\n\u001b[0;32m   1018\u001b[0m                     \u001b[0mCe_xy\u001b[0m\u001b[1;33m,\u001b[0m\u001b[1;33m\u001b[0m\u001b[0m\n\u001b[1;32m-> 1019\u001b[1;33m                     \u001b[0mmatched_cost\u001b[0m \u001b[1;33m+\u001b[0m \u001b[0medit_cost\u001b[0m\u001b[1;33m,\u001b[0m\u001b[1;33m\u001b[0m\u001b[0m\n\u001b[0m\u001b[0;32m   1020\u001b[0m                 )\n\u001b[0;32m   1021\u001b[0m \u001b[1;33m\u001b[0m\u001b[0m\n",
      "\u001b[1;32mc:\\Users\\20215365\\Applications\\Miniconda3-4.5.4\\lib\\site-packages\\networkx\\algorithms\\similarity.py\u001b[0m in \u001b[0;36mget_edit_paths\u001b[1;34m(matched_uv, pending_u, pending_v, Cv, matched_gh, pending_g, pending_h, Ce, matched_cost)\u001b[0m\n\u001b[0;32m   1017\u001b[0m                     \u001b[0mpending_h\u001b[0m\u001b[1;33m,\u001b[0m\u001b[1;33m\u001b[0m\u001b[0m\n\u001b[0;32m   1018\u001b[0m                     \u001b[0mCe_xy\u001b[0m\u001b[1;33m,\u001b[0m\u001b[1;33m\u001b[0m\u001b[0m\n\u001b[1;32m-> 1019\u001b[1;33m                     \u001b[0mmatched_cost\u001b[0m \u001b[1;33m+\u001b[0m \u001b[0medit_cost\u001b[0m\u001b[1;33m,\u001b[0m\u001b[1;33m\u001b[0m\u001b[0m\n\u001b[0m\u001b[0;32m   1020\u001b[0m                 )\n\u001b[0;32m   1021\u001b[0m \u001b[1;33m\u001b[0m\u001b[0m\n",
      "\u001b[1;32mc:\\Users\\20215365\\Applications\\Miniconda3-4.5.4\\lib\\site-packages\\networkx\\algorithms\\similarity.py\u001b[0m in \u001b[0;36mget_edit_paths\u001b[1;34m(matched_uv, pending_u, pending_v, Cv, matched_gh, pending_g, pending_h, Ce, matched_cost)\u001b[0m\n\u001b[0;32m   1017\u001b[0m                     \u001b[0mpending_h\u001b[0m\u001b[1;33m,\u001b[0m\u001b[1;33m\u001b[0m\u001b[0m\n\u001b[0;32m   1018\u001b[0m                     \u001b[0mCe_xy\u001b[0m\u001b[1;33m,\u001b[0m\u001b[1;33m\u001b[0m\u001b[0m\n\u001b[1;32m-> 1019\u001b[1;33m                     \u001b[0mmatched_cost\u001b[0m \u001b[1;33m+\u001b[0m \u001b[0medit_cost\u001b[0m\u001b[1;33m,\u001b[0m\u001b[1;33m\u001b[0m\u001b[0m\n\u001b[0m\u001b[0;32m   1020\u001b[0m                 )\n\u001b[0;32m   1021\u001b[0m \u001b[1;33m\u001b[0m\u001b[0m\n",
      "\u001b[1;32mc:\\Users\\20215365\\Applications\\Miniconda3-4.5.4\\lib\\site-packages\\networkx\\algorithms\\similarity.py\u001b[0m in \u001b[0;36mget_edit_paths\u001b[1;34m(matched_uv, pending_u, pending_v, Cv, matched_gh, pending_g, pending_h, Ce, matched_cost)\u001b[0m\n\u001b[0;32m   1017\u001b[0m                     \u001b[0mpending_h\u001b[0m\u001b[1;33m,\u001b[0m\u001b[1;33m\u001b[0m\u001b[0m\n\u001b[0;32m   1018\u001b[0m                     \u001b[0mCe_xy\u001b[0m\u001b[1;33m,\u001b[0m\u001b[1;33m\u001b[0m\u001b[0m\n\u001b[1;32m-> 1019\u001b[1;33m                     \u001b[0mmatched_cost\u001b[0m \u001b[1;33m+\u001b[0m \u001b[0medit_cost\u001b[0m\u001b[1;33m,\u001b[0m\u001b[1;33m\u001b[0m\u001b[0m\n\u001b[0m\u001b[0;32m   1020\u001b[0m                 )\n\u001b[0;32m   1021\u001b[0m \u001b[1;33m\u001b[0m\u001b[0m\n",
      "\u001b[1;32mc:\\Users\\20215365\\Applications\\Miniconda3-4.5.4\\lib\\site-packages\\networkx\\algorithms\\similarity.py\u001b[0m in \u001b[0;36mget_edit_paths\u001b[1;34m(matched_uv, pending_u, pending_v, Cv, matched_gh, pending_g, pending_h, Ce, matched_cost)\u001b[0m\n\u001b[0;32m   1017\u001b[0m                     \u001b[0mpending_h\u001b[0m\u001b[1;33m,\u001b[0m\u001b[1;33m\u001b[0m\u001b[0m\n\u001b[0;32m   1018\u001b[0m                     \u001b[0mCe_xy\u001b[0m\u001b[1;33m,\u001b[0m\u001b[1;33m\u001b[0m\u001b[0m\n\u001b[1;32m-> 1019\u001b[1;33m                     \u001b[0mmatched_cost\u001b[0m \u001b[1;33m+\u001b[0m \u001b[0medit_cost\u001b[0m\u001b[1;33m,\u001b[0m\u001b[1;33m\u001b[0m\u001b[0m\n\u001b[0m\u001b[0;32m   1020\u001b[0m                 )\n\u001b[0;32m   1021\u001b[0m \u001b[1;33m\u001b[0m\u001b[0m\n",
      "\u001b[1;32mc:\\Users\\20215365\\Applications\\Miniconda3-4.5.4\\lib\\site-packages\\networkx\\algorithms\\similarity.py\u001b[0m in \u001b[0;36mget_edit_paths\u001b[1;34m(matched_uv, pending_u, pending_v, Cv, matched_gh, pending_g, pending_h, Ce, matched_cost)\u001b[0m\n\u001b[0;32m   1017\u001b[0m                     \u001b[0mpending_h\u001b[0m\u001b[1;33m,\u001b[0m\u001b[1;33m\u001b[0m\u001b[0m\n\u001b[0;32m   1018\u001b[0m                     \u001b[0mCe_xy\u001b[0m\u001b[1;33m,\u001b[0m\u001b[1;33m\u001b[0m\u001b[0m\n\u001b[1;32m-> 1019\u001b[1;33m                     \u001b[0mmatched_cost\u001b[0m \u001b[1;33m+\u001b[0m \u001b[0medit_cost\u001b[0m\u001b[1;33m,\u001b[0m\u001b[1;33m\u001b[0m\u001b[0m\n\u001b[0m\u001b[0;32m   1020\u001b[0m                 )\n\u001b[0;32m   1021\u001b[0m \u001b[1;33m\u001b[0m\u001b[0m\n",
      "\u001b[1;32mc:\\Users\\20215365\\Applications\\Miniconda3-4.5.4\\lib\\site-packages\\networkx\\algorithms\\similarity.py\u001b[0m in \u001b[0;36mget_edit_paths\u001b[1;34m(matched_uv, pending_u, pending_v, Cv, matched_gh, pending_g, pending_h, Ce, matched_cost)\u001b[0m\n\u001b[0;32m   1017\u001b[0m                     \u001b[0mpending_h\u001b[0m\u001b[1;33m,\u001b[0m\u001b[1;33m\u001b[0m\u001b[0m\n\u001b[0;32m   1018\u001b[0m                     \u001b[0mCe_xy\u001b[0m\u001b[1;33m,\u001b[0m\u001b[1;33m\u001b[0m\u001b[0m\n\u001b[1;32m-> 1019\u001b[1;33m                     \u001b[0mmatched_cost\u001b[0m \u001b[1;33m+\u001b[0m \u001b[0medit_cost\u001b[0m\u001b[1;33m,\u001b[0m\u001b[1;33m\u001b[0m\u001b[0m\n\u001b[0m\u001b[0;32m   1020\u001b[0m                 )\n\u001b[0;32m   1021\u001b[0m \u001b[1;33m\u001b[0m\u001b[0m\n",
      "\u001b[1;32mc:\\Users\\20215365\\Applications\\Miniconda3-4.5.4\\lib\\site-packages\\networkx\\algorithms\\similarity.py\u001b[0m in \u001b[0;36mget_edit_paths\u001b[1;34m(matched_uv, pending_u, pending_v, Cv, matched_gh, pending_g, pending_h, Ce, matched_cost)\u001b[0m\n\u001b[0;32m   1017\u001b[0m                     \u001b[0mpending_h\u001b[0m\u001b[1;33m,\u001b[0m\u001b[1;33m\u001b[0m\u001b[0m\n\u001b[0;32m   1018\u001b[0m                     \u001b[0mCe_xy\u001b[0m\u001b[1;33m,\u001b[0m\u001b[1;33m\u001b[0m\u001b[0m\n\u001b[1;32m-> 1019\u001b[1;33m                     \u001b[0mmatched_cost\u001b[0m \u001b[1;33m+\u001b[0m \u001b[0medit_cost\u001b[0m\u001b[1;33m,\u001b[0m\u001b[1;33m\u001b[0m\u001b[0m\n\u001b[0m\u001b[0;32m   1020\u001b[0m                 )\n\u001b[0;32m   1021\u001b[0m \u001b[1;33m\u001b[0m\u001b[0m\n",
      "\u001b[1;32mc:\\Users\\20215365\\Applications\\Miniconda3-4.5.4\\lib\\site-packages\\networkx\\algorithms\\similarity.py\u001b[0m in \u001b[0;36mget_edit_paths\u001b[1;34m(matched_uv, pending_u, pending_v, Cv, matched_gh, pending_g, pending_h, Ce, matched_cost)\u001b[0m\n\u001b[0;32m   1017\u001b[0m                     \u001b[0mpending_h\u001b[0m\u001b[1;33m,\u001b[0m\u001b[1;33m\u001b[0m\u001b[0m\n\u001b[0;32m   1018\u001b[0m                     \u001b[0mCe_xy\u001b[0m\u001b[1;33m,\u001b[0m\u001b[1;33m\u001b[0m\u001b[0m\n\u001b[1;32m-> 1019\u001b[1;33m                     \u001b[0mmatched_cost\u001b[0m \u001b[1;33m+\u001b[0m \u001b[0medit_cost\u001b[0m\u001b[1;33m,\u001b[0m\u001b[1;33m\u001b[0m\u001b[0m\n\u001b[0m\u001b[0;32m   1020\u001b[0m                 )\n\u001b[0;32m   1021\u001b[0m \u001b[1;33m\u001b[0m\u001b[0m\n",
      "\u001b[1;32mc:\\Users\\20215365\\Applications\\Miniconda3-4.5.4\\lib\\site-packages\\networkx\\algorithms\\similarity.py\u001b[0m in \u001b[0;36mget_edit_paths\u001b[1;34m(matched_uv, pending_u, pending_v, Cv, matched_gh, pending_g, pending_h, Ce, matched_cost)\u001b[0m\n\u001b[0;32m   1017\u001b[0m                     \u001b[0mpending_h\u001b[0m\u001b[1;33m,\u001b[0m\u001b[1;33m\u001b[0m\u001b[0m\n\u001b[0;32m   1018\u001b[0m                     \u001b[0mCe_xy\u001b[0m\u001b[1;33m,\u001b[0m\u001b[1;33m\u001b[0m\u001b[0m\n\u001b[1;32m-> 1019\u001b[1;33m                     \u001b[0mmatched_cost\u001b[0m \u001b[1;33m+\u001b[0m \u001b[0medit_cost\u001b[0m\u001b[1;33m,\u001b[0m\u001b[1;33m\u001b[0m\u001b[0m\n\u001b[0m\u001b[0;32m   1020\u001b[0m                 )\n\u001b[0;32m   1021\u001b[0m \u001b[1;33m\u001b[0m\u001b[0m\n",
      "\u001b[1;32mc:\\Users\\20215365\\Applications\\Miniconda3-4.5.4\\lib\\site-packages\\networkx\\algorithms\\similarity.py\u001b[0m in \u001b[0;36mget_edit_paths\u001b[1;34m(matched_uv, pending_u, pending_v, Cv, matched_gh, pending_g, pending_h, Ce, matched_cost)\u001b[0m\n\u001b[0;32m   1017\u001b[0m                     \u001b[0mpending_h\u001b[0m\u001b[1;33m,\u001b[0m\u001b[1;33m\u001b[0m\u001b[0m\n\u001b[0;32m   1018\u001b[0m                     \u001b[0mCe_xy\u001b[0m\u001b[1;33m,\u001b[0m\u001b[1;33m\u001b[0m\u001b[0m\n\u001b[1;32m-> 1019\u001b[1;33m                     \u001b[0mmatched_cost\u001b[0m \u001b[1;33m+\u001b[0m \u001b[0medit_cost\u001b[0m\u001b[1;33m,\u001b[0m\u001b[1;33m\u001b[0m\u001b[0m\n\u001b[0m\u001b[0;32m   1020\u001b[0m                 )\n\u001b[0;32m   1021\u001b[0m \u001b[1;33m\u001b[0m\u001b[0m\n",
      "\u001b[1;32mc:\\Users\\20215365\\Applications\\Miniconda3-4.5.4\\lib\\site-packages\\networkx\\algorithms\\similarity.py\u001b[0m in \u001b[0;36mget_edit_paths\u001b[1;34m(matched_uv, pending_u, pending_v, Cv, matched_gh, pending_g, pending_h, Ce, matched_cost)\u001b[0m\n\u001b[0;32m   1017\u001b[0m                     \u001b[0mpending_h\u001b[0m\u001b[1;33m,\u001b[0m\u001b[1;33m\u001b[0m\u001b[0m\n\u001b[0;32m   1018\u001b[0m                     \u001b[0mCe_xy\u001b[0m\u001b[1;33m,\u001b[0m\u001b[1;33m\u001b[0m\u001b[0m\n\u001b[1;32m-> 1019\u001b[1;33m                     \u001b[0mmatched_cost\u001b[0m \u001b[1;33m+\u001b[0m \u001b[0medit_cost\u001b[0m\u001b[1;33m,\u001b[0m\u001b[1;33m\u001b[0m\u001b[0m\n\u001b[0m\u001b[0;32m   1020\u001b[0m                 )\n\u001b[0;32m   1021\u001b[0m \u001b[1;33m\u001b[0m\u001b[0m\n",
      "\u001b[1;32mc:\\Users\\20215365\\Applications\\Miniconda3-4.5.4\\lib\\site-packages\\networkx\\algorithms\\similarity.py\u001b[0m in \u001b[0;36mget_edit_paths\u001b[1;34m(matched_uv, pending_u, pending_v, Cv, matched_gh, pending_g, pending_h, Ce, matched_cost)\u001b[0m\n\u001b[0;32m   1017\u001b[0m                     \u001b[0mpending_h\u001b[0m\u001b[1;33m,\u001b[0m\u001b[1;33m\u001b[0m\u001b[0m\n\u001b[0;32m   1018\u001b[0m                     \u001b[0mCe_xy\u001b[0m\u001b[1;33m,\u001b[0m\u001b[1;33m\u001b[0m\u001b[0m\n\u001b[1;32m-> 1019\u001b[1;33m                     \u001b[0mmatched_cost\u001b[0m \u001b[1;33m+\u001b[0m \u001b[0medit_cost\u001b[0m\u001b[1;33m,\u001b[0m\u001b[1;33m\u001b[0m\u001b[0m\n\u001b[0m\u001b[0;32m   1020\u001b[0m                 )\n\u001b[0;32m   1021\u001b[0m \u001b[1;33m\u001b[0m\u001b[0m\n",
      "\u001b[1;32mc:\\Users\\20215365\\Applications\\Miniconda3-4.5.4\\lib\\site-packages\\networkx\\algorithms\\similarity.py\u001b[0m in \u001b[0;36mget_edit_paths\u001b[1;34m(matched_uv, pending_u, pending_v, Cv, matched_gh, pending_g, pending_h, Ce, matched_cost)\u001b[0m\n\u001b[0;32m   1017\u001b[0m                     \u001b[0mpending_h\u001b[0m\u001b[1;33m,\u001b[0m\u001b[1;33m\u001b[0m\u001b[0m\n\u001b[0;32m   1018\u001b[0m                     \u001b[0mCe_xy\u001b[0m\u001b[1;33m,\u001b[0m\u001b[1;33m\u001b[0m\u001b[0m\n\u001b[1;32m-> 1019\u001b[1;33m                     \u001b[0mmatched_cost\u001b[0m \u001b[1;33m+\u001b[0m \u001b[0medit_cost\u001b[0m\u001b[1;33m,\u001b[0m\u001b[1;33m\u001b[0m\u001b[0m\n\u001b[0m\u001b[0;32m   1020\u001b[0m                 )\n\u001b[0;32m   1021\u001b[0m \u001b[1;33m\u001b[0m\u001b[0m\n",
      "\u001b[1;32mc:\\Users\\20215365\\Applications\\Miniconda3-4.5.4\\lib\\site-packages\\networkx\\algorithms\\similarity.py\u001b[0m in \u001b[0;36mget_edit_paths\u001b[1;34m(matched_uv, pending_u, pending_v, Cv, matched_gh, pending_g, pending_h, Ce, matched_cost)\u001b[0m\n\u001b[0;32m   1017\u001b[0m                     \u001b[0mpending_h\u001b[0m\u001b[1;33m,\u001b[0m\u001b[1;33m\u001b[0m\u001b[0m\n\u001b[0;32m   1018\u001b[0m                     \u001b[0mCe_xy\u001b[0m\u001b[1;33m,\u001b[0m\u001b[1;33m\u001b[0m\u001b[0m\n\u001b[1;32m-> 1019\u001b[1;33m                     \u001b[0mmatched_cost\u001b[0m \u001b[1;33m+\u001b[0m \u001b[0medit_cost\u001b[0m\u001b[1;33m,\u001b[0m\u001b[1;33m\u001b[0m\u001b[0m\n\u001b[0m\u001b[0;32m   1020\u001b[0m                 )\n\u001b[0;32m   1021\u001b[0m \u001b[1;33m\u001b[0m\u001b[0m\n",
      "\u001b[1;32mc:\\Users\\20215365\\Applications\\Miniconda3-4.5.4\\lib\\site-packages\\networkx\\algorithms\\similarity.py\u001b[0m in \u001b[0;36mget_edit_paths\u001b[1;34m(matched_uv, pending_u, pending_v, Cv, matched_gh, pending_g, pending_h, Ce, matched_cost)\u001b[0m\n\u001b[0;32m   1017\u001b[0m                     \u001b[0mpending_h\u001b[0m\u001b[1;33m,\u001b[0m\u001b[1;33m\u001b[0m\u001b[0m\n\u001b[0;32m   1018\u001b[0m                     \u001b[0mCe_xy\u001b[0m\u001b[1;33m,\u001b[0m\u001b[1;33m\u001b[0m\u001b[0m\n\u001b[1;32m-> 1019\u001b[1;33m                     \u001b[0mmatched_cost\u001b[0m \u001b[1;33m+\u001b[0m \u001b[0medit_cost\u001b[0m\u001b[1;33m,\u001b[0m\u001b[1;33m\u001b[0m\u001b[0m\n\u001b[0m\u001b[0;32m   1020\u001b[0m                 )\n\u001b[0;32m   1021\u001b[0m \u001b[1;33m\u001b[0m\u001b[0m\n",
      "\u001b[1;32mc:\\Users\\20215365\\Applications\\Miniconda3-4.5.4\\lib\\site-packages\\networkx\\algorithms\\similarity.py\u001b[0m in \u001b[0;36mget_edit_paths\u001b[1;34m(matched_uv, pending_u, pending_v, Cv, matched_gh, pending_g, pending_h, Ce, matched_cost)\u001b[0m\n\u001b[0;32m   1017\u001b[0m                     \u001b[0mpending_h\u001b[0m\u001b[1;33m,\u001b[0m\u001b[1;33m\u001b[0m\u001b[0m\n\u001b[0;32m   1018\u001b[0m                     \u001b[0mCe_xy\u001b[0m\u001b[1;33m,\u001b[0m\u001b[1;33m\u001b[0m\u001b[0m\n\u001b[1;32m-> 1019\u001b[1;33m                     \u001b[0mmatched_cost\u001b[0m \u001b[1;33m+\u001b[0m \u001b[0medit_cost\u001b[0m\u001b[1;33m,\u001b[0m\u001b[1;33m\u001b[0m\u001b[0m\n\u001b[0m\u001b[0;32m   1020\u001b[0m                 )\n\u001b[0;32m   1021\u001b[0m \u001b[1;33m\u001b[0m\u001b[0m\n",
      "\u001b[1;32mc:\\Users\\20215365\\Applications\\Miniconda3-4.5.4\\lib\\site-packages\\networkx\\algorithms\\similarity.py\u001b[0m in \u001b[0;36mget_edit_paths\u001b[1;34m(matched_uv, pending_u, pending_v, Cv, matched_gh, pending_g, pending_h, Ce, matched_cost)\u001b[0m\n\u001b[0;32m   1017\u001b[0m                     \u001b[0mpending_h\u001b[0m\u001b[1;33m,\u001b[0m\u001b[1;33m\u001b[0m\u001b[0m\n\u001b[0;32m   1018\u001b[0m                     \u001b[0mCe_xy\u001b[0m\u001b[1;33m,\u001b[0m\u001b[1;33m\u001b[0m\u001b[0m\n\u001b[1;32m-> 1019\u001b[1;33m                     \u001b[0mmatched_cost\u001b[0m \u001b[1;33m+\u001b[0m \u001b[0medit_cost\u001b[0m\u001b[1;33m,\u001b[0m\u001b[1;33m\u001b[0m\u001b[0m\n\u001b[0m\u001b[0;32m   1020\u001b[0m                 )\n\u001b[0;32m   1021\u001b[0m \u001b[1;33m\u001b[0m\u001b[0m\n",
      "\u001b[1;32mc:\\Users\\20215365\\Applications\\Miniconda3-4.5.4\\lib\\site-packages\\networkx\\algorithms\\similarity.py\u001b[0m in \u001b[0;36mget_edit_paths\u001b[1;34m(matched_uv, pending_u, pending_v, Cv, matched_gh, pending_g, pending_h, Ce, matched_cost)\u001b[0m\n\u001b[0;32m   1017\u001b[0m                     \u001b[0mpending_h\u001b[0m\u001b[1;33m,\u001b[0m\u001b[1;33m\u001b[0m\u001b[0m\n\u001b[0;32m   1018\u001b[0m                     \u001b[0mCe_xy\u001b[0m\u001b[1;33m,\u001b[0m\u001b[1;33m\u001b[0m\u001b[0m\n\u001b[1;32m-> 1019\u001b[1;33m                     \u001b[0mmatched_cost\u001b[0m \u001b[1;33m+\u001b[0m \u001b[0medit_cost\u001b[0m\u001b[1;33m,\u001b[0m\u001b[1;33m\u001b[0m\u001b[0m\n\u001b[0m\u001b[0;32m   1020\u001b[0m                 )\n\u001b[0;32m   1021\u001b[0m \u001b[1;33m\u001b[0m\u001b[0m\n",
      "\u001b[1;32mc:\\Users\\20215365\\Applications\\Miniconda3-4.5.4\\lib\\site-packages\\networkx\\algorithms\\similarity.py\u001b[0m in \u001b[0;36mget_edit_paths\u001b[1;34m(matched_uv, pending_u, pending_v, Cv, matched_gh, pending_g, pending_h, Ce, matched_cost)\u001b[0m\n\u001b[0;32m   1017\u001b[0m                     \u001b[0mpending_h\u001b[0m\u001b[1;33m,\u001b[0m\u001b[1;33m\u001b[0m\u001b[0m\n\u001b[0;32m   1018\u001b[0m                     \u001b[0mCe_xy\u001b[0m\u001b[1;33m,\u001b[0m\u001b[1;33m\u001b[0m\u001b[0m\n\u001b[1;32m-> 1019\u001b[1;33m                     \u001b[0mmatched_cost\u001b[0m \u001b[1;33m+\u001b[0m \u001b[0medit_cost\u001b[0m\u001b[1;33m,\u001b[0m\u001b[1;33m\u001b[0m\u001b[0m\n\u001b[0m\u001b[0;32m   1020\u001b[0m                 )\n\u001b[0;32m   1021\u001b[0m \u001b[1;33m\u001b[0m\u001b[0m\n",
      "\u001b[1;32mc:\\Users\\20215365\\Applications\\Miniconda3-4.5.4\\lib\\site-packages\\networkx\\algorithms\\similarity.py\u001b[0m in \u001b[0;36mget_edit_paths\u001b[1;34m(matched_uv, pending_u, pending_v, Cv, matched_gh, pending_g, pending_h, Ce, matched_cost)\u001b[0m\n\u001b[0;32m   1017\u001b[0m                     \u001b[0mpending_h\u001b[0m\u001b[1;33m,\u001b[0m\u001b[1;33m\u001b[0m\u001b[0m\n\u001b[0;32m   1018\u001b[0m                     \u001b[0mCe_xy\u001b[0m\u001b[1;33m,\u001b[0m\u001b[1;33m\u001b[0m\u001b[0m\n\u001b[1;32m-> 1019\u001b[1;33m                     \u001b[0mmatched_cost\u001b[0m \u001b[1;33m+\u001b[0m \u001b[0medit_cost\u001b[0m\u001b[1;33m,\u001b[0m\u001b[1;33m\u001b[0m\u001b[0m\n\u001b[0m\u001b[0;32m   1020\u001b[0m                 )\n\u001b[0;32m   1021\u001b[0m \u001b[1;33m\u001b[0m\u001b[0m\n",
      "\u001b[1;32mc:\\Users\\20215365\\Applications\\Miniconda3-4.5.4\\lib\\site-packages\\networkx\\algorithms\\similarity.py\u001b[0m in \u001b[0;36mget_edit_paths\u001b[1;34m(matched_uv, pending_u, pending_v, Cv, matched_gh, pending_g, pending_h, Ce, matched_cost)\u001b[0m\n\u001b[0;32m   1017\u001b[0m                     \u001b[0mpending_h\u001b[0m\u001b[1;33m,\u001b[0m\u001b[1;33m\u001b[0m\u001b[0m\n\u001b[0;32m   1018\u001b[0m                     \u001b[0mCe_xy\u001b[0m\u001b[1;33m,\u001b[0m\u001b[1;33m\u001b[0m\u001b[0m\n\u001b[1;32m-> 1019\u001b[1;33m                     \u001b[0mmatched_cost\u001b[0m \u001b[1;33m+\u001b[0m \u001b[0medit_cost\u001b[0m\u001b[1;33m,\u001b[0m\u001b[1;33m\u001b[0m\u001b[0m\n\u001b[0m\u001b[0;32m   1020\u001b[0m                 )\n\u001b[0;32m   1021\u001b[0m \u001b[1;33m\u001b[0m\u001b[0m\n",
      "\u001b[1;32mc:\\Users\\20215365\\Applications\\Miniconda3-4.5.4\\lib\\site-packages\\networkx\\algorithms\\similarity.py\u001b[0m in \u001b[0;36mget_edit_paths\u001b[1;34m(matched_uv, pending_u, pending_v, Cv, matched_gh, pending_g, pending_h, Ce, matched_cost)\u001b[0m\n\u001b[0;32m    978\u001b[0m                 \u001b[0mmatched_cost\u001b[0m\u001b[1;33m,\u001b[0m\u001b[1;33m\u001b[0m\u001b[0m\n\u001b[0;32m    979\u001b[0m             )\n\u001b[1;32m--> 980\u001b[1;33m             \u001b[1;32mfor\u001b[0m \u001b[0mij\u001b[0m\u001b[1;33m,\u001b[0m \u001b[0mCv_ij\u001b[0m\u001b[1;33m,\u001b[0m \u001b[0mxy\u001b[0m\u001b[1;33m,\u001b[0m \u001b[0mCe_xy\u001b[0m\u001b[1;33m,\u001b[0m \u001b[0medit_cost\u001b[0m \u001b[1;32min\u001b[0m \u001b[0medit_ops\u001b[0m\u001b[1;33m:\u001b[0m\u001b[1;33m\u001b[0m\u001b[0m\n\u001b[0m\u001b[0;32m    981\u001b[0m                 \u001b[0mi\u001b[0m\u001b[1;33m,\u001b[0m \u001b[0mj\u001b[0m \u001b[1;33m=\u001b[0m \u001b[0mij\u001b[0m\u001b[1;33m\u001b[0m\u001b[0m\n\u001b[0;32m    982\u001b[0m                 \u001b[1;31m# assert Cv.C[i, j] + sum(Ce.C[t] for t in xy) == edit_cost\u001b[0m\u001b[1;33m\u001b[0m\u001b[1;33m\u001b[0m\u001b[0m\n",
      "\u001b[1;32mc:\\Users\\20215365\\Applications\\Miniconda3-4.5.4\\lib\\site-packages\\networkx\\algorithms\\similarity.py\u001b[0m in \u001b[0;36mget_edit_ops\u001b[1;34m(matched_uv, pending_u, pending_v, Cv, pending_g, pending_h, Ce, matched_cost)\u001b[0m\n\u001b[0;32m    893\u001b[0m                 \u001b[0mpending_h\u001b[0m\u001b[1;33m,\u001b[0m\u001b[1;33m\u001b[0m\u001b[0m\n\u001b[0;32m    894\u001b[0m                 \u001b[0mCe\u001b[0m\u001b[1;33m,\u001b[0m\u001b[1;33m\u001b[0m\u001b[0m\n\u001b[1;32m--> 895\u001b[1;33m                 \u001b[0mmatched_uv\u001b[0m\u001b[1;33m,\u001b[0m\u001b[1;33m\u001b[0m\u001b[0m\n\u001b[0m\u001b[0;32m    896\u001b[0m             )\n\u001b[0;32m    897\u001b[0m             \u001b[1;32mif\u001b[0m \u001b[0mprune\u001b[0m\u001b[1;33m(\u001b[0m\u001b[0mmatched_cost\u001b[0m \u001b[1;33m+\u001b[0m \u001b[0mCv\u001b[0m\u001b[1;33m.\u001b[0m\u001b[0mC\u001b[0m\u001b[1;33m[\u001b[0m\u001b[0mi\u001b[0m\u001b[1;33m,\u001b[0m \u001b[0mj\u001b[0m\u001b[1;33m]\u001b[0m \u001b[1;33m+\u001b[0m \u001b[0mCv_ij\u001b[0m\u001b[1;33m.\u001b[0m\u001b[0mls\u001b[0m \u001b[1;33m+\u001b[0m \u001b[0mlocalCe\u001b[0m\u001b[1;33m.\u001b[0m\u001b[0mls\u001b[0m\u001b[1;33m)\u001b[0m\u001b[1;33m:\u001b[0m\u001b[1;33m\u001b[0m\u001b[0m\n",
      "\u001b[1;32mc:\\Users\\20215365\\Applications\\Miniconda3-4.5.4\\lib\\site-packages\\networkx\\algorithms\\similarity.py\u001b[0m in \u001b[0;36mmatch_edges\u001b[1;34m(u, v, pending_g, pending_h, Ce, matched_uv)\u001b[0m\n\u001b[0;32m    754\u001b[0m \u001b[1;33m\u001b[0m\u001b[0m\n\u001b[0;32m    755\u001b[0m         \u001b[1;32mif\u001b[0m \u001b[0mm\u001b[0m \u001b[1;32mor\u001b[0m \u001b[0mn\u001b[0m\u001b[1;33m:\u001b[0m\u001b[1;33m\u001b[0m\u001b[0m\n\u001b[1;32m--> 756\u001b[1;33m             \u001b[0mC\u001b[0m \u001b[1;33m=\u001b[0m \u001b[0mextract_C\u001b[0m\u001b[1;33m(\u001b[0m\u001b[0mCe\u001b[0m\u001b[1;33m.\u001b[0m\u001b[0mC\u001b[0m\u001b[1;33m,\u001b[0m \u001b[0mg_ind\u001b[0m\u001b[1;33m,\u001b[0m \u001b[0mh_ind\u001b[0m\u001b[1;33m,\u001b[0m \u001b[0mM\u001b[0m\u001b[1;33m,\u001b[0m \u001b[0mN\u001b[0m\u001b[1;33m)\u001b[0m\u001b[1;33m\u001b[0m\u001b[0m\n\u001b[0m\u001b[0;32m    757\u001b[0m             \u001b[1;31m# assert C.shape == (m + n, m + n)\u001b[0m\u001b[1;33m\u001b[0m\u001b[1;33m\u001b[0m\u001b[0m\n\u001b[0;32m    758\u001b[0m \u001b[1;33m\u001b[0m\u001b[0m\n",
      "\u001b[1;32mc:\\Users\\20215365\\Applications\\Miniconda3-4.5.4\\lib\\site-packages\\networkx\\algorithms\\similarity.py\u001b[0m in \u001b[0;36mextract_C\u001b[1;34m(C, i, j, m, n)\u001b[0m\n\u001b[0;32m    702\u001b[0m         \u001b[0mrow_ind\u001b[0m \u001b[1;33m=\u001b[0m \u001b[1;33m[\u001b[0m\u001b[0mk\u001b[0m \u001b[1;32min\u001b[0m \u001b[0mi\u001b[0m \u001b[1;32mor\u001b[0m \u001b[0mk\u001b[0m \u001b[1;33m-\u001b[0m \u001b[0mm\u001b[0m \u001b[1;32min\u001b[0m \u001b[0mj\u001b[0m \u001b[1;32mfor\u001b[0m \u001b[0mk\u001b[0m \u001b[1;32min\u001b[0m \u001b[0mrange\u001b[0m\u001b[1;33m(\u001b[0m\u001b[0mm\u001b[0m \u001b[1;33m+\u001b[0m \u001b[0mn\u001b[0m\u001b[1;33m)\u001b[0m\u001b[1;33m]\u001b[0m\u001b[1;33m\u001b[0m\u001b[0m\n\u001b[0;32m    703\u001b[0m         \u001b[0mcol_ind\u001b[0m \u001b[1;33m=\u001b[0m \u001b[1;33m[\u001b[0m\u001b[0mk\u001b[0m \u001b[1;32min\u001b[0m \u001b[0mj\u001b[0m \u001b[1;32mor\u001b[0m \u001b[0mk\u001b[0m \u001b[1;33m-\u001b[0m \u001b[0mn\u001b[0m \u001b[1;32min\u001b[0m \u001b[0mi\u001b[0m \u001b[1;32mfor\u001b[0m \u001b[0mk\u001b[0m \u001b[1;32min\u001b[0m \u001b[0mrange\u001b[0m\u001b[1;33m(\u001b[0m\u001b[0mm\u001b[0m \u001b[1;33m+\u001b[0m \u001b[0mn\u001b[0m\u001b[1;33m)\u001b[0m\u001b[1;33m]\u001b[0m\u001b[1;33m\u001b[0m\u001b[0m\n\u001b[1;32m--> 704\u001b[1;33m         \u001b[1;32mreturn\u001b[0m \u001b[0mC\u001b[0m\u001b[1;33m[\u001b[0m\u001b[0mrow_ind\u001b[0m\u001b[1;33m,\u001b[0m \u001b[1;33m:\u001b[0m\u001b[1;33m]\u001b[0m\u001b[1;33m[\u001b[0m\u001b[1;33m:\u001b[0m\u001b[1;33m,\u001b[0m \u001b[0mcol_ind\u001b[0m\u001b[1;33m]\u001b[0m\u001b[1;33m\u001b[0m\u001b[0m\n\u001b[0m\u001b[0;32m    705\u001b[0m \u001b[1;33m\u001b[0m\u001b[0m\n\u001b[0;32m    706\u001b[0m     \u001b[1;32mdef\u001b[0m \u001b[0mreduce_C\u001b[0m\u001b[1;33m(\u001b[0m\u001b[0mC\u001b[0m\u001b[1;33m,\u001b[0m \u001b[0mi\u001b[0m\u001b[1;33m,\u001b[0m \u001b[0mj\u001b[0m\u001b[1;33m,\u001b[0m \u001b[0mm\u001b[0m\u001b[1;33m,\u001b[0m \u001b[0mn\u001b[0m\u001b[1;33m)\u001b[0m\u001b[1;33m:\u001b[0m\u001b[1;33m\u001b[0m\u001b[0m\n",
      "\u001b[1;31mKeyboardInterrupt\u001b[0m: "
     ]
    }
   ],
   "source": [
    "graph_idx = np.random.RandomState(0).randint(len(graphs), size=(100, 2))\n",
    "targets = [graph_distance(graphs[left], graphs[right]) for left, right in graph_idx]\n",
    "train_gen = generator.flow(graph_idx, batch_size=10, targets=targets)"
   ]
  },
  {
   "cell_type": "code",
   "execution_count": null,
   "metadata": {},
   "outputs": [],
   "source": [
    "pair_model.compile(keras.optimizers.Adam(1e-2), loss=\"mse\")\n",
    "%%time\n",
    "history = pair_model.fit(train_gen, epochs=500, verbose=0)\n",
    "sg.utils.plot_history(history)"
   ]
  },
  {
   "cell_type": "code",
   "execution_count": null,
   "metadata": {},
   "outputs": [],
   "source": [
    "embeddings = embedding_model.predict(generator.flow(graphs))"
   ]
  }
 ],
 "metadata": {
  "kernelspec": {
   "display_name": "Python 3.6.5 64-bit",
   "language": "python",
   "name": "python3"
  },
  "language_info": {
   "codemirror_mode": {
    "name": "ipython",
    "version": 3
   },
   "file_extension": ".py",
   "mimetype": "text/x-python",
   "name": "python",
   "nbconvert_exporter": "python",
   "pygments_lexer": "ipython3",
   "version": "3.6.5"
  },
  "orig_nbformat": 4,
  "vscode": {
   "interpreter": {
    "hash": "0f1a3621360847ccae5f01172febf910341dcf06d97295ed27ef1a32eb47464d"
   }
  }
 },
 "nbformat": 4,
 "nbformat_minor": 2
}
